{
  "nbformat": 4,
  "nbformat_minor": 0,
  "metadata": {
    "colab": {
      "provenance": []
    },
    "kernelspec": {
      "name": "python3",
      "display_name": "Python 3"
    },
    "language_info": {
      "name": "python"
    }
  },
  "cells": [
    {
      "cell_type": "markdown",
      "source": [
        "## Estudiante\n",
        "### Fernando Valencia"
      ],
      "metadata": {
        "id": "LZiILE776db7"
      }
    },
    {
      "cell_type": "markdown",
      "source": [
        "# ✅ Validación del Modelo NER para Cáncer de Pulmón\n",
        "\n",
        "## 🎯 Entregable 2\n",
        "\n",
        "Este script documentado en Python tiene como objetivo validar el modelo NER fine-tuned previamente sobre un corpus de cáncer de pulmón. La validación se realiza cargando el modelo entrenado y aplicándolo sobre un conjunto de oraciones clínicas de prueba, evaluando su capacidad para extraer entidades relevantes.\n"
      ],
      "metadata": {
        "id": "gWt7nr1RTCCF"
      }
    },
    {
      "cell_type": "code",
      "execution_count": null,
      "metadata": {
        "colab": {
          "base_uri": "https://localhost:8080/"
        },
        "id": "4Ge-aHZOoTNx",
        "outputId": "6eff2b58-77ca-4d72-9955-cc7eadefac0b"
      },
      "outputs": [
        {
          "output_type": "stream",
          "name": "stdout",
          "text": [
            "Requirement already satisfied: transformers in /usr/local/lib/python3.11/dist-packages (4.53.0)\n",
            "Requirement already satisfied: filelock in /usr/local/lib/python3.11/dist-packages (from transformers) (3.18.0)\n",
            "Requirement already satisfied: huggingface-hub<1.0,>=0.30.0 in /usr/local/lib/python3.11/dist-packages (from transformers) (0.33.0)\n",
            "Requirement already satisfied: numpy>=1.17 in /usr/local/lib/python3.11/dist-packages (from transformers) (2.0.2)\n",
            "Requirement already satisfied: packaging>=20.0 in /usr/local/lib/python3.11/dist-packages (from transformers) (24.2)\n",
            "Requirement already satisfied: pyyaml>=5.1 in /usr/local/lib/python3.11/dist-packages (from transformers) (6.0.2)\n",
            "Requirement already satisfied: regex!=2019.12.17 in /usr/local/lib/python3.11/dist-packages (from transformers) (2024.11.6)\n",
            "Requirement already satisfied: requests in /usr/local/lib/python3.11/dist-packages (from transformers) (2.32.3)\n",
            "Requirement already satisfied: tokenizers<0.22,>=0.21 in /usr/local/lib/python3.11/dist-packages (from transformers) (0.21.1)\n",
            "Requirement already satisfied: safetensors>=0.4.3 in /usr/local/lib/python3.11/dist-packages (from transformers) (0.5.3)\n",
            "Requirement already satisfied: tqdm>=4.27 in /usr/local/lib/python3.11/dist-packages (from transformers) (4.67.1)\n",
            "Requirement already satisfied: fsspec>=2023.5.0 in /usr/local/lib/python3.11/dist-packages (from huggingface-hub<1.0,>=0.30.0->transformers) (2025.3.2)\n",
            "Requirement already satisfied: typing-extensions>=3.7.4.3 in /usr/local/lib/python3.11/dist-packages (from huggingface-hub<1.0,>=0.30.0->transformers) (4.14.0)\n",
            "Requirement already satisfied: hf-xet<2.0.0,>=1.1.2 in /usr/local/lib/python3.11/dist-packages (from huggingface-hub<1.0,>=0.30.0->transformers) (1.1.5)\n",
            "Requirement already satisfied: charset-normalizer<4,>=2 in /usr/local/lib/python3.11/dist-packages (from requests->transformers) (3.4.2)\n",
            "Requirement already satisfied: idna<4,>=2.5 in /usr/local/lib/python3.11/dist-packages (from requests->transformers) (3.10)\n",
            "Requirement already satisfied: urllib3<3,>=1.21.1 in /usr/local/lib/python3.11/dist-packages (from requests->transformers) (2.4.0)\n",
            "Requirement already satisfied: certifi>=2017.4.17 in /usr/local/lib/python3.11/dist-packages (from requests->transformers) (2025.6.15)\n",
            "Requirement already satisfied: torch in /usr/local/lib/python3.11/dist-packages (2.6.0+cu124)\n",
            "Requirement already satisfied: filelock in /usr/local/lib/python3.11/dist-packages (from torch) (3.18.0)\n",
            "Requirement already satisfied: typing-extensions>=4.10.0 in /usr/local/lib/python3.11/dist-packages (from torch) (4.14.0)\n",
            "Requirement already satisfied: networkx in /usr/local/lib/python3.11/dist-packages (from torch) (3.5)\n",
            "Requirement already satisfied: jinja2 in /usr/local/lib/python3.11/dist-packages (from torch) (3.1.6)\n",
            "Requirement already satisfied: fsspec in /usr/local/lib/python3.11/dist-packages (from torch) (2025.3.2)\n",
            "Requirement already satisfied: nvidia-cuda-nvrtc-cu12==12.4.127 in /usr/local/lib/python3.11/dist-packages (from torch) (12.4.127)\n",
            "Requirement already satisfied: nvidia-cuda-runtime-cu12==12.4.127 in /usr/local/lib/python3.11/dist-packages (from torch) (12.4.127)\n",
            "Requirement already satisfied: nvidia-cuda-cupti-cu12==12.4.127 in /usr/local/lib/python3.11/dist-packages (from torch) (12.4.127)\n",
            "Requirement already satisfied: nvidia-cudnn-cu12==9.1.0.70 in /usr/local/lib/python3.11/dist-packages (from torch) (9.1.0.70)\n",
            "Requirement already satisfied: nvidia-cublas-cu12==12.4.5.8 in /usr/local/lib/python3.11/dist-packages (from torch) (12.4.5.8)\n",
            "Requirement already satisfied: nvidia-cufft-cu12==11.2.1.3 in /usr/local/lib/python3.11/dist-packages (from torch) (11.2.1.3)\n",
            "Requirement already satisfied: nvidia-curand-cu12==10.3.5.147 in /usr/local/lib/python3.11/dist-packages (from torch) (10.3.5.147)\n",
            "Requirement already satisfied: nvidia-cusolver-cu12==11.6.1.9 in /usr/local/lib/python3.11/dist-packages (from torch) (11.6.1.9)\n",
            "Requirement already satisfied: nvidia-cusparse-cu12==12.3.1.170 in /usr/local/lib/python3.11/dist-packages (from torch) (12.3.1.170)\n",
            "Requirement already satisfied: nvidia-cusparselt-cu12==0.6.2 in /usr/local/lib/python3.11/dist-packages (from torch) (0.6.2)\n",
            "Requirement already satisfied: nvidia-nccl-cu12==2.21.5 in /usr/local/lib/python3.11/dist-packages (from torch) (2.21.5)\n",
            "Requirement already satisfied: nvidia-nvtx-cu12==12.4.127 in /usr/local/lib/python3.11/dist-packages (from torch) (12.4.127)\n",
            "Requirement already satisfied: nvidia-nvjitlink-cu12==12.4.127 in /usr/local/lib/python3.11/dist-packages (from torch) (12.4.127)\n",
            "Requirement already satisfied: triton==3.2.0 in /usr/local/lib/python3.11/dist-packages (from torch) (3.2.0)\n",
            "Requirement already satisfied: sympy==1.13.1 in /usr/local/lib/python3.11/dist-packages (from torch) (1.13.1)\n",
            "Requirement already satisfied: mpmath<1.4,>=1.1.0 in /usr/local/lib/python3.11/dist-packages (from sympy==1.13.1->torch) (1.3.0)\n",
            "Requirement already satisfied: MarkupSafe>=2.0 in /usr/local/lib/python3.11/dist-packages (from jinja2->torch) (3.0.2)\n",
            "Requirement already satisfied: transformers in /usr/local/lib/python3.11/dist-packages (4.53.0)\n",
            "Requirement already satisfied: filelock in /usr/local/lib/python3.11/dist-packages (from transformers) (3.18.0)\n",
            "Requirement already satisfied: huggingface-hub<1.0,>=0.30.0 in /usr/local/lib/python3.11/dist-packages (from transformers) (0.33.0)\n",
            "Requirement already satisfied: numpy>=1.17 in /usr/local/lib/python3.11/dist-packages (from transformers) (2.0.2)\n",
            "Requirement already satisfied: packaging>=20.0 in /usr/local/lib/python3.11/dist-packages (from transformers) (24.2)\n",
            "Requirement already satisfied: pyyaml>=5.1 in /usr/local/lib/python3.11/dist-packages (from transformers) (6.0.2)\n",
            "Requirement already satisfied: regex!=2019.12.17 in /usr/local/lib/python3.11/dist-packages (from transformers) (2024.11.6)\n",
            "Requirement already satisfied: requests in /usr/local/lib/python3.11/dist-packages (from transformers) (2.32.3)\n",
            "Requirement already satisfied: tokenizers<0.22,>=0.21 in /usr/local/lib/python3.11/dist-packages (from transformers) (0.21.1)\n",
            "Requirement already satisfied: safetensors>=0.4.3 in /usr/local/lib/python3.11/dist-packages (from transformers) (0.5.3)\n",
            "Requirement already satisfied: tqdm>=4.27 in /usr/local/lib/python3.11/dist-packages (from transformers) (4.67.1)\n",
            "Requirement already satisfied: fsspec>=2023.5.0 in /usr/local/lib/python3.11/dist-packages (from huggingface-hub<1.0,>=0.30.0->transformers) (2025.3.2)\n",
            "Requirement already satisfied: typing-extensions>=3.7.4.3 in /usr/local/lib/python3.11/dist-packages (from huggingface-hub<1.0,>=0.30.0->transformers) (4.14.0)\n",
            "Requirement already satisfied: hf-xet<2.0.0,>=1.1.2 in /usr/local/lib/python3.11/dist-packages (from huggingface-hub<1.0,>=0.30.0->transformers) (1.1.5)\n",
            "Requirement already satisfied: charset-normalizer<4,>=2 in /usr/local/lib/python3.11/dist-packages (from requests->transformers) (3.4.2)\n",
            "Requirement already satisfied: idna<4,>=2.5 in /usr/local/lib/python3.11/dist-packages (from requests->transformers) (3.10)\n",
            "Requirement already satisfied: urllib3<3,>=1.21.1 in /usr/local/lib/python3.11/dist-packages (from requests->transformers) (2.4.0)\n",
            "Requirement already satisfied: certifi>=2017.4.17 in /usr/local/lib/python3.11/dist-packages (from requests->transformers) (2025.6.15)\n",
            "Requirement already satisfied: torch in /usr/local/lib/python3.11/dist-packages (2.6.0+cu124)\n",
            "Requirement already satisfied: filelock in /usr/local/lib/python3.11/dist-packages (from torch) (3.18.0)\n",
            "Requirement already satisfied: typing-extensions>=4.10.0 in /usr/local/lib/python3.11/dist-packages (from torch) (4.14.0)\n",
            "Requirement already satisfied: networkx in /usr/local/lib/python3.11/dist-packages (from torch) (3.5)\n",
            "Requirement already satisfied: jinja2 in /usr/local/lib/python3.11/dist-packages (from torch) (3.1.6)\n",
            "Requirement already satisfied: fsspec in /usr/local/lib/python3.11/dist-packages (from torch) (2025.3.2)\n",
            "Requirement already satisfied: nvidia-cuda-nvrtc-cu12==12.4.127 in /usr/local/lib/python3.11/dist-packages (from torch) (12.4.127)\n",
            "Requirement already satisfied: nvidia-cuda-runtime-cu12==12.4.127 in /usr/local/lib/python3.11/dist-packages (from torch) (12.4.127)\n",
            "Requirement already satisfied: nvidia-cuda-cupti-cu12==12.4.127 in /usr/local/lib/python3.11/dist-packages (from torch) (12.4.127)\n",
            "Requirement already satisfied: nvidia-cudnn-cu12==9.1.0.70 in /usr/local/lib/python3.11/dist-packages (from torch) (9.1.0.70)\n",
            "Requirement already satisfied: nvidia-cublas-cu12==12.4.5.8 in /usr/local/lib/python3.11/dist-packages (from torch) (12.4.5.8)\n",
            "Requirement already satisfied: nvidia-cufft-cu12==11.2.1.3 in /usr/local/lib/python3.11/dist-packages (from torch) (11.2.1.3)\n",
            "Requirement already satisfied: nvidia-curand-cu12==10.3.5.147 in /usr/local/lib/python3.11/dist-packages (from torch) (10.3.5.147)\n",
            "Requirement already satisfied: nvidia-cusolver-cu12==11.6.1.9 in /usr/local/lib/python3.11/dist-packages (from torch) (11.6.1.9)\n",
            "Requirement already satisfied: nvidia-cusparse-cu12==12.3.1.170 in /usr/local/lib/python3.11/dist-packages (from torch) (12.3.1.170)\n",
            "Requirement already satisfied: nvidia-cusparselt-cu12==0.6.2 in /usr/local/lib/python3.11/dist-packages (from torch) (0.6.2)\n",
            "Requirement already satisfied: nvidia-nccl-cu12==2.21.5 in /usr/local/lib/python3.11/dist-packages (from torch) (2.21.5)\n",
            "Requirement already satisfied: nvidia-nvtx-cu12==12.4.127 in /usr/local/lib/python3.11/dist-packages (from torch) (12.4.127)\n",
            "Requirement already satisfied: nvidia-nvjitlink-cu12==12.4.127 in /usr/local/lib/python3.11/dist-packages (from torch) (12.4.127)\n",
            "Requirement already satisfied: triton==3.2.0 in /usr/local/lib/python3.11/dist-packages (from torch) (3.2.0)\n",
            "Requirement already satisfied: sympy==1.13.1 in /usr/local/lib/python3.11/dist-packages (from torch) (1.13.1)\n",
            "Requirement already satisfied: mpmath<1.4,>=1.1.0 in /usr/local/lib/python3.11/dist-packages (from sympy==1.13.1->torch) (1.3.0)\n",
            "Requirement already satisfied: MarkupSafe>=2.0 in /usr/local/lib/python3.11/dist-packages (from jinja2->torch) (3.0.2)\n"
          ]
        }
      ],
      "source": [
        "# Instalación de librerías necesarias\n",
        "!pip install -U transformers\n",
        "!pip install torch\n"
      ]
    },
    {
      "cell_type": "code",
      "source": [
        "oraciones = [\n",
        "    \"El paciente fue diagnosticado con adenocarcinoma de pulmón estadio IV el 12 de marzo de 2022, con metástasis en cerebro y hueso, y presentó un TNM de T3N2M1.\",\n",
        "    \"Se realizó resección quirúrgica del lóbulo superior derecho el 5 de enero, seguida de quimioterapia con carboplatino y pemetrexed durante 4 ciclos cada 21 días.\",\n",
        "    \"El paciente con antecedentes familiares de cáncer de pulmón en su padre y antecedentes personales de tabaquismo severo (fumador activo durante 30 años) inició tratamiento con inmunoterapia en marzo.\",\n",
        "    \"Se detecta progresión de la enfermedad con aparición de nuevos nódulos pulmonares y derrame pleural bilateral según tomografía de control del 15 de junio.\",\n",
        "    \"La paciente presentó evento de hemoptisis severa el 20 de abril, lo que motivó la suspensión temporal de la quimioterapia y la indicación de radioterapia paliativa sobre masa mediastínica.\",\n",
        "    \"Tras la cirugía toracoscópica realizada en noviembre de 2021, se administró quimioterapia adyuvante y posteriormente radioterapia sobre la región hilia derecha con dosis de 60 Gy en 30 fracciones.\",\n",
        "    \"Paciente exfumador desde hace 5 años, con consumo previo de 20 paquetes/año, presenta adenocarcinoma de pulmón con mutación en EGFR, tratado con osimertinib desde septiembre.\",\n",
        "    \"El informe PET/CT del 3 de mayo muestra captación hipermetabólica en ganglios mediastínicos y lesión pulmonar de 2.5 cm, compatible con progresión local.\",\n",
        "    \"A pesar de los 6 ciclos de quimioterapia con cisplatino y etopósido administrados cada 21 días, se observa avance a estadio IV con metástasis hepáticas.\",\n",
        "    \"Actualmente, el paciente se encuentra en tratamiento con radioterapia estereotáctica iniciada hace dos semanas sobre metástasis cerebral única, complementado con control sistémico con pembrolizumab.\"\n",
        "]\n"
      ],
      "metadata": {
        "id": "pAzS9r564baU"
      },
      "execution_count": null,
      "outputs": []
    },
    {
      "cell_type": "markdown",
      "source": [
        "## 📄 Descripción breve del código NER\n",
        "\n",
        "### 🔧 Función principal\n",
        "Realiza reconocimiento de entidades nombradas (NER) en textos relacionados con pulmonología usando el modelo `FernandoValencia/xlm-roberta-base-finetuned-ner-pulmon`.\n",
        "\n",
        "### 🚀 Pasos del código\n",
        "1. **Carga del modelo y tokenizador**:\n",
        "   - Usa `AutoTokenizer` y `pipeline` de Hugging Face para NER.\n",
        "   - Configura `aggregation_strategy=\"simple\"` para agrupar tokens en entidades.\n",
        "\n",
        "2. **Función `merge_spans()`**:\n",
        "   - Fusiona entidades consecutivas del mismo tipo que están adyacentes en el texto.\n",
        "   - Evita que entidades fragmentadas se presenten por separado.\n",
        "\n",
        "3. **Procesamiento**:\n",
        "   - Recorre cada oración en la lista `oraciones`.\n",
        "   - Detecta entidades y aplica la fusión.\n",
        "   - Imprime cada entidad con su tipo y score.\n",
        "\n",
        "### 📦 Dependencias\n",
        "- `transformers` de Hugging Face.\n",
        "\n",
        "### ⚙️ Variable requerida\n",
        "- `oraciones`: lista de textos u oraciones a procesar.\n"
      ],
      "metadata": {
        "id": "INeDcIAVFDtP"
      }
    },
    {
      "cell_type": "code",
      "source": [
        "from transformers import AutoTokenizer, pipeline\n",
        "\n",
        "model_id = \"FernandoValencia/xlm-roberta-base-finetuned-ner-pulmon\"\n",
        "tok = AutoTokenizer.from_pretrained(model_id, add_prefix_space=True)\n",
        "ner = pipeline(\n",
        "    \"ner\",\n",
        "    model=model_id,\n",
        "    tokenizer=tok,\n",
        "    aggregation_strategy=\"simple\"   # ← añade esto\n",
        ")\n",
        "\n",
        "def merge_spans(text, spans):\n",
        "    fused = []\n",
        "    for s in spans:\n",
        "        if fused and s[\"entity_group\"] == fused[-1][\"entity_group\"] \\\n",
        "           and s[\"start\"] == fused[-1][\"end\"]:           # pegados en el texto\n",
        "            fused[-1][\"word\"]  += text[s[\"start\"]:s[\"end\"]]\n",
        "            fused[-1][\"end\"]    = s[\"end\"]\n",
        "            fused[-1][\"score\"]  = max(fused[-1][\"score\"], s[\"score\"])\n",
        "        else:\n",
        "            fused.append(s.copy())\n",
        "    return fused\n",
        "\n",
        "for i, sent in enumerate(oraciones, 1):\n",
        "    ents = merge_spans(sent, ner(sent))\n",
        "    print(f\"\\nOración {i}:\")\n",
        "    for e in ents:\n",
        "        print(f\" - {e['word']} ({e['entity_group']}, {e['score']:.2f})\")\n"
      ],
      "metadata": {
        "colab": {
          "base_uri": "https://localhost:8080/"
        },
        "id": "pAonnHSiBC1N",
        "outputId": "aa888d23-6773-469e-ef0b-18925904122c"
      },
      "execution_count": null,
      "outputs": [
        {
          "output_type": "stream",
          "name": "stderr",
          "text": [
            "Device set to use cpu\n"
          ]
        },
        {
          "output_type": "stream",
          "name": "stdout",
          "text": [
            "\n",
            "Oración 1:\n",
            " - fue (OCURRENCE_EVENT, 0.50)\n",
            " - diagnosticado (OCURRENCE_EVENT, 0.99)\n",
            " - adenocarcinoma de pulmón (CANCER_CONCEPT, 1.00)\n",
            " - estadio IV (STAGE, 1.00)\n",
            " - 12 de marzo de 2022 (DATE, 1.00)\n",
            " - metástasis en cerebro y hueso (CANCER_CONCEPT, 0.97)\n",
            " - T3N2M1 (TNM, 1.00)\n",
            "\n",
            "Oración 2:\n",
            " - 5 de enero (DATE, 1.00)\n",
            " - quimioterapia (CHEMOTHERAPY, 0.99)\n",
            " - carboplatino (DRUG, 1.00)\n",
            " - pemetrexed (DRUG, 1.00)\n",
            " - 4 (QUANTITY, 1.00)\n",
            " - ciclos (METRIC, 1.00)\n",
            " - cada 21 días (FREQ, 0.99)\n",
            "\n",
            "Oración 3:\n",
            " - cáncer de pulmón (CANCER_CONCEPT, 1.00)\n",
            " - padre (FAMILY, 0.65)\n",
            " - fumador (SMOKER_STATUS, 0.78)\n",
            " - 30 (QUANTITY, 0.99)\n",
            " - años (METRIC, 0.99)\n",
            " - inició tratamiento (OCURRENCE_EVENT, 0.98)\n",
            " - oterapia (RADIOTHERAPY, 0.37)\n",
            " - marzo (DATE, 0.99)\n",
            "\n",
            "Oración 4:\n",
            " - 15 de junio (DATE, 1.00)\n",
            "\n",
            "Oración 5:\n",
            " - 20 de abril (DATE, 1.00)\n",
            " - quimioterapia (CHEMOTHERAPY, 0.99)\n",
            " - radioterapia (RADIOTHERAPY, 0.87)\n",
            "\n",
            "Oración 6:\n",
            " - pica (SURGERY, 0.50)\n",
            " - noviembre de 2021 (DATE, 1.00)\n",
            " - quimioterapia (CHEMOTHERAPY, 0.99)\n",
            " - radioterapia (RADIOTHERAPY, 0.96)\n",
            " - 60 (QUANTITY, 1.00)\n",
            " - Gy (METRIC, 1.00)\n",
            " - 30 (QUANTITY, 1.00)\n",
            " - fracciones (METRIC, 1.00)\n",
            "\n",
            "Oración 7:\n",
            " - exfumador (SMOKER_STATUS, 0.90)\n",
            " - hace 5 años (IMPLICIT_DATE, 0.82)\n",
            " - 20 (QUANTITY, 1.00)\n",
            " - paquetes (METRIC, 1.00)\n",
            " - año (FREQ, 0.51)\n",
            " - adenocarcinoma de pulmón (CANCER_CONCEPT, 1.00)\n",
            " - tratado (OCURRENCE_EVENT, 0.99)\n",
            " - osimertinib (DRUG, 1.00)\n",
            " - septiembre (DATE, 0.68)\n",
            "\n",
            "Oración 8:\n",
            " - 3 de mayo (DATE, 1.00)\n",
            " - 2.5 (QUANTITY, 0.98)\n",
            " - cm (METRIC, 0.99)\n",
            "\n",
            "Oración 9:\n",
            " - 6 (QUANTITY, 1.00)\n",
            " - ciclos (METRIC, 1.00)\n",
            " - quimioterapia (CHEMOTHERAPY, 0.99)\n",
            " - cisplatino (DRUG, 1.00)\n",
            " - etopósido (DRUG, 1.00)\n",
            " - cada 21 días (FREQ, 0.99)\n",
            " - estadio IV (STAGE, 1.00)\n",
            " - metástasis hepáticas (CANCER_CONCEPT, 0.94)\n",
            "\n",
            "Oración 10:\n",
            " - radioterapia (RADIOTHERAPY, 0.97)\n",
            " - iniciada (OCURRENCE_EVENT, 0.69)\n",
            " - hace dos semanas (IMPLICIT_DATE, 0.75)\n",
            " - metástasis cerebral única (CANCER_CONCEPT, 0.90)\n",
            " - pembrolizumab (DRUG, 0.99)\n"
          ]
        }
      ]
    }
  ]
}
