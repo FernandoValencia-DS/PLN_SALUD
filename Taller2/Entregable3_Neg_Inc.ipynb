{
 "nbformat": 4,
 "nbformat_minor": 0,
 "metadata": {
  "colab": {
   "provenance": [],
   "machine_shape": "hm",
   "gpuType": "A100"
  },
  "kernelspec": {
   "name": "python3",
   "display_name": "Python 3"
  },
  "language_info": {
   "name": "python"
  },
  "accelerator": "GPU"
 },
 "cells": [
  {
   "cell_type": "markdown",
   "source": [
    "## Estudiante\n",
    "### Fernando Valencia"
   ],
   "metadata": {
    "id": "03XgRE3t7fh9"
   }
  },
  {
   "cell_type": "markdown",
   "source": [
    "#\ud83e\udde9 Entregable 3 \u2013 Integraci\u00f3n de modelos y generaci\u00f3n de base de datos estructurada\n",
    "\n",
    "En este entregable se integran los dos modelos previos:\n",
    "\n",
    "- \ud83e\udde0 **Modelo NER**: `anvorja/breast-cancer-biomedical-ner-sp-1`, encargado de extraer entidades cl\u00ednicas relevantes desde las historias.\n",
    "- \u2757 **Modelo de Negaci\u00f3n/Incertidumbre**: `JuanSolarte99/bert-base-uncased-finetuned-ner-negation_detection_NUBES`, que clasifica las entidades como **Afirmativas**, **Negadas** o **Sospechosas**.\n",
    "\n",
    "El script procesa cada historia cl\u00ednica (una por archivo de texto), l\u00ednea por l\u00ednea. Por cada entidad identificada, se registra:\n",
    "\n",
    "- `patient_id`: identificador del archivo.\n",
    "- `sentence`: oraci\u00f3n completa donde se encontr\u00f3 la entidad.\n",
    "- `NER`: texto exacto de la entidad detectada.\n",
    "- `NER_label`: tipo de entidad seg\u00fan el modelo NER.\n",
    "- `Estado`: clasificaci\u00f3n contextual (afirmativa, negada o sospechosa), evaluada con una heur\u00edstica basada en la posici\u00f3n relativa de los \"cues\" de negaci\u00f3n o incertidumbre.\n",
    "\n",
    "Finalmente, los resultados se almacenan en un archivo CSV con estructura tabular, \u00fatil para an\u00e1lisis posteriores o integraci\u00f3n en pipelines cl\u00ednicos."
   ],
   "metadata": {
    "id": "wpWzyuAvhVt9"
   }
  },
  {
   "cell_type": "code",
   "execution_count": 12,
   "metadata": {
    "colab": {
     "base_uri": "https://localhost:8080/"
    },
    "id": "PdRKFxySAjeu",
    "outputId": "a21d15d7-af91-4a78-c980-803815220c98"
   },
   "outputs": [
    {
     "output_type": "stream",
     "name": "stdout",
     "text": [
      "Requirement already satisfied: transformers in /usr/local/lib/python3.11/dist-packages (4.53.1)\n",
      "Requirement already satisfied: filelock in /usr/local/lib/python3.11/dist-packages (from transformers) (3.18.0)\n",
      "Requirement already satisfied: huggingface-hub<1.0,>=0.30.0 in /usr/local/lib/python3.11/dist-packages (from transformers) (0.33.2)\n",
      "Requirement already satisfied: numpy>=1.17 in /usr/local/lib/python3.11/dist-packages (from transformers) (2.0.2)\n",
      "Requirement already satisfied: packaging>=20.0 in /usr/local/lib/python3.11/dist-packages (from transformers) (24.2)\n",
      "Requirement already satisfied: pyyaml>=5.1 in /usr/local/lib/python3.11/dist-packages (from transformers) (6.0.2)\n",
      "Requirement already satisfied: regex!=2019.12.17 in /usr/local/lib/python3.11/dist-packages (from transformers) (2024.11.6)\n",
      "Requirement already satisfied: requests in /usr/local/lib/python3.11/dist-packages (from transformers) (2.32.3)\n",
      "Requirement already satisfied: tokenizers<0.22,>=0.21 in /usr/local/lib/python3.11/dist-packages (from transformers) (0.21.2)\n",
      "Requirement already satisfied: safetensors>=0.4.3 in /usr/local/lib/python3.11/dist-packages (from transformers) (0.5.3)\n",
      "Requirement already satisfied: tqdm>=4.27 in /usr/local/lib/python3.11/dist-packages (from transformers) (4.67.1)\n",
      "Requirement already satisfied: fsspec>=2023.5.0 in /usr/local/lib/python3.11/dist-packages (from huggingface-hub<1.0,>=0.30.0->transformers) (2025.3.2)\n",
      "Requirement already satisfied: typing-extensions>=3.7.4.3 in /usr/local/lib/python3.11/dist-packages (from huggingface-hub<1.0,>=0.30.0->transformers) (4.14.1)\n",
      "Requirement already satisfied: hf-xet<2.0.0,>=1.1.2 in /usr/local/lib/python3.11/dist-packages (from huggingface-hub<1.0,>=0.30.0->transformers) (1.1.5)\n",
      "Requirement already satisfied: charset-normalizer<4,>=2 in /usr/local/lib/python3.11/dist-packages (from requests->transformers) (3.4.2)\n",
      "Requirement already satisfied: idna<4,>=2.5 in /usr/local/lib/python3.11/dist-packages (from requests->transformers) (3.10)\n",
      "Requirement already satisfied: urllib3<3,>=1.21.1 in /usr/local/lib/python3.11/dist-packages (from requests->transformers) (2.4.0)\n",
      "Requirement already satisfied: certifi>=2017.4.17 in /usr/local/lib/python3.11/dist-packages (from requests->transformers) (2025.6.15)\n",
      "Requirement already satisfied: torch in /usr/local/lib/python3.11/dist-packages (2.6.0+cu124)\n",
      "Requirement already satisfied: filelock in /usr/local/lib/python3.11/dist-packages (from torch) (3.18.0)\n",
      "Requirement already satisfied: typing-extensions>=4.10.0 in /usr/local/lib/python3.11/dist-packages (from torch) (4.14.1)\n",
      "Requirement already satisfied: networkx in /usr/local/lib/python3.11/dist-packages (from torch) (3.5)\n",
      "Requirement already satisfied: jinja2 in /usr/local/lib/python3.11/dist-packages (from torch) (3.1.6)\n",
      "Requirement already satisfied: fsspec in /usr/local/lib/python3.11/dist-packages (from torch) (2025.3.2)\n",
      "Requirement already satisfied: nvidia-cuda-nvrtc-cu12==12.4.127 in /usr/local/lib/python3.11/dist-packages (from torch) (12.4.127)\n",
      "Requirement already satisfied: nvidia-cuda-runtime-cu12==12.4.127 in /usr/local/lib/python3.11/dist-packages (from torch) (12.4.127)\n",
      "Requirement already satisfied: nvidia-cuda-cupti-cu12==12.4.127 in /usr/local/lib/python3.11/dist-packages (from torch) (12.4.127)\n",
      "Requirement already satisfied: nvidia-cudnn-cu12==9.1.0.70 in /usr/local/lib/python3.11/dist-packages (from torch) (9.1.0.70)\n",
      "Requirement already satisfied: nvidia-cublas-cu12==12.4.5.8 in /usr/local/lib/python3.11/dist-packages (from torch) (12.4.5.8)\n",
      "Requirement already satisfied: nvidia-cufft-cu12==11.2.1.3 in /usr/local/lib/python3.11/dist-packages (from torch) (11.2.1.3)\n",
      "Requirement already satisfied: nvidia-curand-cu12==10.3.5.147 in /usr/local/lib/python3.11/dist-packages (from torch) (10.3.5.147)\n",
      "Requirement already satisfied: nvidia-cusolver-cu12==11.6.1.9 in /usr/local/lib/python3.11/dist-packages (from torch) (11.6.1.9)\n",
      "Requirement already satisfied: nvidia-cusparse-cu12==12.3.1.170 in /usr/local/lib/python3.11/dist-packages (from torch) (12.3.1.170)\n",
      "Requirement already satisfied: nvidia-cusparselt-cu12==0.6.2 in /usr/local/lib/python3.11/dist-packages (from torch) (0.6.2)\n",
      "Requirement already satisfied: nvidia-nccl-cu12==2.21.5 in /usr/local/lib/python3.11/dist-packages (from torch) (2.21.5)\n",
      "Requirement already satisfied: nvidia-nvtx-cu12==12.4.127 in /usr/local/lib/python3.11/dist-packages (from torch) (12.4.127)\n",
      "Requirement already satisfied: nvidia-nvjitlink-cu12==12.4.127 in /usr/local/lib/python3.11/dist-packages (from torch) (12.4.127)\n",
      "Requirement already satisfied: triton==3.2.0 in /usr/local/lib/python3.11/dist-packages (from torch) (3.2.0)\n",
      "Requirement already satisfied: sympy==1.13.1 in /usr/local/lib/python3.11/dist-packages (from torch) (1.13.1)\n",
      "Requirement already satisfied: mpmath<1.4,>=1.1.0 in /usr/local/lib/python3.11/dist-packages (from sympy==1.13.1->torch) (1.3.0)\n",
      "Requirement already satisfied: MarkupSafe>=2.0 in /usr/local/lib/python3.11/dist-packages (from jinja2->torch) (3.0.2)\n"
     ]
    }
   ],
   "source": [
    "# Instalaci\u00f3n de librer\u00edas necesarias\n",
    "!pip install -U transformers\n",
    "!pip install torch"
   ]
  },
  {
   "cell_type": "code",
   "source": [
    "from transformers import AutoTokenizer, AutoModelForTokenClassification, pipeline\n",
    "import pandas as pd\n",
    "import os"
   ],
   "metadata": {
    "id": "RjymQs87YXIr"
   },
   "execution_count": 30,
   "outputs": []
  },
  {
   "cell_type": "markdown",
   "source": [
    "# \ud83d\udcc2 Carga de historias cl\u00ednicas desde Google Drive\n",
    "\n",
    "Se monta Google Drive en el entorno de ejecuci\u00f3n para acceder a los archivos de texto que contienen historias cl\u00ednicas.\n",
    "\n",
    "Cada archivo representa una historia cl\u00ednica individual y se procesa l\u00ednea por l\u00ednea. Solo se almacenan las l\u00edneas no vac\u00edas, que corresponden a oraciones cl\u00ednicas relevantes.\n",
    "\n",
    "Las historias se almacenan en un diccionario llamado `historias`, donde:\n",
    "- La **clave (`patient_id`)** es un n\u00famero identificador \u00fanico por paciente (correspondiente al archivo).\n",
    "- El **valor** es una lista con las frases extra\u00eddas de ese archivo.\n",
    "\n",
    "Esto permite estructurar y mantener el seguimiento de la procedencia de cada oraci\u00f3n durante el an\u00e1lisis posterior con los modelos de NER y detecci\u00f3n de negaci\u00f3n/incertidumbre.\n"
   ],
   "metadata": {
    "id": "U_GfXQPRSxmF"
   }
  },
  {
   "cell_type": "code",
   "source": [
    "from google.colab import drive\n",
    "drive.mount('/content/drive')"
   ],
   "metadata": {
    "colab": {
     "base_uri": "https://localhost:8080/"
    },
    "id": "6bJden24AsNc",
    "outputId": "e5e5d01a-10c7-4132-9e63-8126be8e5f3b"
   },
   "execution_count": 31,
   "outputs": [
    {
     "output_type": "stream",
     "name": "stdout",
     "text": [
      "Drive already mounted at /content/drive; to attempt to forcibly remount, call drive.mount(\"/content/drive\", force_remount=True).\n"
     ]
    }
   ]
  },
  {
   "cell_type": "code",
   "source": [
    "import os\n",
    "carpeta_historias = \"/content/drive/MyDrive/Analitica en Salud/Negaci\u00f3n\""
   ],
   "metadata": {
    "id": "5LtJZ2x-BBo6"
   },
   "execution_count": 32,
   "outputs": []
  },
  {
   "cell_type": "code",
   "source": [
    "archivos = os.listdir(carpeta_historias)\n",
    "print(len(archivos))"
   ],
   "metadata": {
    "colab": {
     "base_uri": "https://localhost:8080/"
    },
    "id": "7RdWdAu7TEyM",
    "outputId": "dc325540-bcde-4838-ecd5-8db6774ad1db"
   },
   "execution_count": 33,
   "outputs": [
    {
     "output_type": "stream",
     "name": "stdout",
     "text": [
      "106\n"
     ]
    }
   ]
  },
  {
   "cell_type": "code",
   "source": [
    "historias = {}\n",
    "for idx, archivo in enumerate(archivos, start=1):\n",
    "    with open(os.path.join(carpeta_historias, archivo), \"r\") as f:\n",
    "        lineas = [l.strip() for l in f if l.strip()]\n",
    "        historias[idx] = lineas"
   ],
   "metadata": {
    "id": "TDcVAul-TFCD"
   },
   "execution_count": 34,
   "outputs": []
  },
  {
   "cell_type": "code",
   "source": [
    "len(historias)"
   ],
   "metadata": {
    "colab": {
     "base_uri": "https://localhost:8080/"
    },
    "id": "WAXc5GGmUDTZ",
    "outputId": "d05ffdfe-adb1-4284-a182-e6221fbad3e4"
   },
   "execution_count": 35,
   "outputs": [
    {
     "output_type": "execute_result",
     "data": {
      "text/plain": [
       "106"
      ]
     },
     "metadata": {},
     "execution_count": 35
    }
   ]
  },
  {
   "cell_type": "code",
   "source": [
    "from huggingface_hub import login\n",
    "login()"
   ],
   "metadata": {
    "colab": {
     "base_uri": "https://localhost:8080/",
     "height": 17,
     "referenced_widgets": [
      "e2170ab718734d3796cf37bb9774238e",
      "4774e92841924574b42356fe0504b2a9",
      "446d7cc87aed4722aa27bbea553204bc",
      "066c1a2a214b461ebe48bfa8a0fb75cd",
      "dea8a36eceb34a2a89fe59cb4379a43f",
      "cf45fe67168e44658bbe3c0d4a68b20e",
      "71245bdbc01f465c943da28e049b8829",
      "6000371493704d73a179dda7828c9ecf",
      "5da7d5f61118429091bcdbced03164d4",
      "8aa9faf078604ed69a88564d1df459f8",
      "f9308e05935c4a4181d5b4338ff57bf4",
      "d7162d0ae0524554af622847aee73e05",
      "b021b751debc45c880786471417aa7af",
      "9857d0b9e3ba4496b370af5751d9c7ec",
      "99effb53b94846e29b3e828aaf180f9b",
      "33916f44de8b492ab82cdbfd519fa698",
      "37231fb9b66b42608cb783a3f82757ef",
      "fb2f2c3642de4b169e47651a82db2151",
      "a62151760d704131a8e85ea96f669352",
      "57bfdfa6af824b18af07b9f900ea0e89"
     ]
    },
    "id": "CJEapB3wY_i4",
    "outputId": "247b9a2f-a34f-487c-a5af-1d3805f4084a"
   },
   "execution_count": 23,
   "outputs": [
    {
     "output_type": "display_data",
     "data": {
      "text/plain": [
       "VBox(children=(HTML(value='<center> <img\\nsrc=https://huggingface.co/front/assets/huggingface_logo-noborder.sv\u2026"
      ],
      "application/vnd.jupyter.widget-view+json": {
       "version_major": 2,
       "version_minor": 0,
       "model_id": "e2170ab718734d3796cf37bb9774238e"
      }
     },
     "metadata": {}
    }
   ]
  },
  {
   "cell_type": "markdown",
   "source": [
    "# \ud83e\udd16 Carga del modelo NER de c\u00e1ncer de mama\n",
    "\n",
    "Se carga el modelo preentrenado `anvorja/breast-cancer-biomedical-ner-sp-1` desde Hugging Face, dise\u00f1ado para reconocer entidades biom\u00e9dicas en textos relacionados con c\u00e1ncer de mama. Se inicializa un pipeline de reconocimiento de entidades nombradas (NER), utilizando una estrategia de agregaci\u00f3n `\"simple\"` para combinar tokens subpalabra en entidades completas."
   ],
   "metadata": {
    "id": "yC8NaTLVwijG"
   }
  },
  {
   "cell_type": "code",
   "source": [
    "# Modelo NER de c\u00e1ncer de mama\n",
    "ner_model_id = \"anvorja/breast-cancer-biomedical-ner-sp-1\"\n",
    "\n",
    "ner_pipe = pipeline(\n",
    "    \"ner\",\n",
    "    model=AutoModelForTokenClassification.from_pretrained(ner_model_id),\n",
    "    tokenizer=AutoTokenizer.from_pretrained(ner_model_id),\n",
    "    aggregation_strategy=\"simple\"\n",
    ")\n"
   ],
   "metadata": {
    "colab": {
     "base_uri": "https://localhost:8080/",
     "height": 226,
     "referenced_widgets": [
      "7d4efdd629674e409455dda0b589efbd",
      "121ddccffdc84cb18101409a38630c12",
      "50ed2e3d38504b768ec48ec7ac745bd1",
      "bf781bf9e3c748fd8e38611c89bb343e",
      "1a4a991a57594a3bb5df4adc7756ce22",
      "13e8d9c63e734bd79f439d631bee1e28",
      "c775248ccee24a2ba5dad149191a9864",
      "fb3385265e3243cf83d0627d4121311b",
      "2a87be8aab8a4365a7cb02cc959c35d2",
      "16c5267a208e4893ac7ffcbc25239a10",
      "847e8abaafe14b7c8a44d102cbc98f02",
      "e649703ce919431a8f3d49c649e7c165",
      "e30f2b701bb646808c7f1bb3fe1485ac",
      "cb362680428f4965bf6bd5544dd3cef9",
      "c9c136f95b60412fa080b015a39e3cf0",
      "d3c9824f99544eeaaad7230762ebb55a",
      "49c271df5153483aaf599eab6e19f2f5",
      "4021bf0adaa94195acc0a277a34d82c4",
      "7055f878cdda48e9a449924cda0af3e6",
      "ee5eafcbb03041bc8cfd0485ceb49d32",
      "e36463653e52468984fccb163bb25d31",
      "64766fc2b19146618f8ff7176f28aa2b",
      "2e8a250a66ca4b44b519b03132fa28d8",
      "20f1bc7ea8224604b1e8408bd36fa503",
      "50cb2dc6706943289cb108b9b8c792f1",
      "47bb51765d4f4b9cba5ffa37ae432d5d",
      "abc41c9e5cd348acacfcdc5580e48dad",
      "2b941a369b19455b8987eca592201f31",
      "5af8be87cd2446b8a823fac623c6a70a",
      "1bd69d83f825439797121cdfa7722811",
      "edffafc10bd44cc2904d9e160d6f3db4",
      "f21d0e0bd2084ce99a42e6fd5bfa81e5",
      "e60c489577f34ab4b416d07d65dc22d2",
      "2a44d7c356ff41b7b49eb3d8b0c2d582",
      "e95dd8fc20d14fa5ad002e4fca70b3ec",
      "d77fceebf5a44f97a433bcb5db69eb80",
      "c06aa90aa051452088fbfe09f8fb803e",
      "d58a1c02d5824898b58f906b2a8dc753",
      "bcff4e12423f4dbe94dea62a4eff3135",
      "8b43ea08d9e44100b1d83b967e8e2133",
      "0c3ec18621d74c2a89fb2614293c6719",
      "15b8d6195e064296a4ef90c51f73b95a",
      "1fb37cb932de4983875a911a14f41795",
      "a58dd9bd523040c0b18ff532934fdaed",
      "e54bc199b8be4ec09ab18cddf8867340",
      "07ea7bcc41614a3b95887294584f8801",
      "0e28e8bbf0a241caae8bc1f75dab4b92",
      "520be76a34aa4d06a4c340ff468a71cc",
      "5cf34cccb3884577850fc5bce32b0db9",
      "7efca7db171e4f0aaf2f562b44769b01",
      "329af53fee1c4a5a8452cc7a8b053076",
      "3d36e4a097944b96bce950d0f3ce98de",
      "5a0a148f774a4e6983283788e83bfdb3",
      "b55dd07e0d2848e5b802a06c6ee61167",
      "b6ea2891e1aa43858df4aa54d715e17d",
      "b5160f046e48426abf882c1a2c90dfa8",
      "30ed571b6a9d48b1afc518da42991166",
      "fd25696fb5e242069743fb601085783f",
      "a843343d4f2544798d355a69027640bb",
      "8887f348115a4d2492fb252d2d0967e0",
      "cecdaa7c1ada46e7806b911b27fc1557",
      "c2d026b2340e46429950d7dd341fb708",
      "aaf294d0033b4bd18474251d18f60ca1",
      "a8dfcdd6b60b4d13a5cef360a7f8e0db",
      "49ab952ec37743ccbedc93e638ed9866",
      "e5751908d17a442fbac3b1d3ee88af17"
     ]
    },
    "id": "nj46nd6l_3yb",
    "outputId": "ec7baa7a-62e3-46b6-f938-15a1055cbd8c"
   },
   "execution_count": 36,
   "outputs": [
    {
     "output_type": "display_data",
     "data": {
      "text/plain": [
       "config.json:   0%|          | 0.00/3.15k [00:00<?, ?B/s]"
      ],
      "application/vnd.jupyter.widget-view+json": {
       "version_major": 2,
       "version_minor": 0,
       "model_id": "7d4efdd629674e409455dda0b589efbd"
      }
     },
     "metadata": {}
    },
    {
     "output_type": "display_data",
     "data": {
      "text/plain": [
       "model.safetensors:   0%|          | 0.00/2.24G [00:00<?, ?B/s]"
      ],
      "application/vnd.jupyter.widget-view+json": {
       "version_major": 2,
       "version_minor": 0,
       "model_id": "e649703ce919431a8f3d49c649e7c165"
      }
     },
     "metadata": {}
    },
    {
     "output_type": "display_data",
     "data": {
      "text/plain": [
       "tokenizer_config.json:   0%|          | 0.00/1.21k [00:00<?, ?B/s]"
      ],
      "application/vnd.jupyter.widget-view+json": {
       "version_major": 2,
       "version_minor": 0,
       "model_id": "2e8a250a66ca4b44b519b03132fa28d8"
      }
     },
     "metadata": {}
    },
    {
     "output_type": "display_data",
     "data": {
      "text/plain": [
       "sentencepiece.bpe.model:   0%|          | 0.00/5.07M [00:00<?, ?B/s]"
      ],
      "application/vnd.jupyter.widget-view+json": {
       "version_major": 2,
       "version_minor": 0,
       "model_id": "2a44d7c356ff41b7b49eb3d8b0c2d582"
      }
     },
     "metadata": {}
    },
    {
     "output_type": "display_data",
     "data": {
      "text/plain": [
       "tokenizer.json:   0%|          | 0.00/17.1M [00:00<?, ?B/s]"
      ],
      "application/vnd.jupyter.widget-view+json": {
       "version_major": 2,
       "version_minor": 0,
       "model_id": "e54bc199b8be4ec09ab18cddf8867340"
      }
     },
     "metadata": {}
    },
    {
     "output_type": "display_data",
     "data": {
      "text/plain": [
       "special_tokens_map.json:   0%|          | 0.00/280 [00:00<?, ?B/s]"
      ],
      "application/vnd.jupyter.widget-view+json": {
       "version_major": 2,
       "version_minor": 0,
       "model_id": "b5160f046e48426abf882c1a2c90dfa8"
      }
     },
     "metadata": {}
    },
    {
     "output_type": "stream",
     "name": "stderr",
     "text": [
      "Device set to use cuda:0\n"
     ]
    }
   ]
  },
  {
   "cell_type": "markdown",
   "source": [
    "# \ud83e\udde0 Extracci\u00f3n de entidades cl\u00ednicas con modelo NER\n",
    "\n",
    "Se utiliza el modelo `anvorja/breast-cancer-biomedical-ner-sp-1` para identificar entidades cl\u00ednicas relevantes dentro de cada oraci\u00f3n de las historias cl\u00ednicas.\n",
    "\n",
    "Por cada oraci\u00f3n (l\u00ednea de texto) se realiza lo siguiente:\n",
    "\n",
    "- Se aplica el pipeline NER (`ner_pipe`) para detectar entidades como biomarcadores, diagn\u00f3sticos, tratamientos, etc.\n",
    "- Cada entidad reconocida se registra en una estructura de tipo diccionario, guardando:\n",
    "  - `patient_id`: ID del paciente correspondiente (basado en el archivo origen).\n",
    "  - `sentence`: La oraci\u00f3n en la que se detect\u00f3 la entidad.\n",
    "  - `NER`: El texto de la entidad reconocida.\n",
    "  - `NER_label`: El tipo o categor\u00eda de la entidad seg\u00fan el modelo (por ejemplo: `BIOMARKER`, `TREATMENT`, etc.).\n",
    "\n",
    "El resultado se acumula en la lista `filas_ner`, que posteriormente servir\u00e1 como base para integrar el an\u00e1lisis de negaci\u00f3n e incertidumbre.\n"
   ],
   "metadata": {
    "id": "7z_GtCVM9ADC"
   }
  },
  {
   "cell_type": "code",
   "source": [
    "# 2. Detectar entidades y registrar patient_id, sentence, NER + etiqueta\n",
    "filas_ner = []\n",
    "\n",
    "for patient_id, oraciones in historias.items():\n",
    "    for sentence in oraciones:\n",
    "        entidades = ner_pipe(sentence)\n",
    "        for ent in entidades:\n",
    "            filas_ner.append({\n",
    "                \"patient_id\": patient_id,\n",
    "                \"sentence\":   sentence,\n",
    "                \"NER\":        ent[\"word\"],                 # texto de la entidad\n",
    "                \"NER_label\":  ent.get(\"entity_group\")      # tipo de entidad\n",
    "                                or ent.get(\"entity\")\n",
    "            })"
   ],
   "metadata": {
    "id": "dgS-IGpaYvDy"
   },
   "execution_count": 42,
   "outputs": []
  },
  {
   "cell_type": "code",
   "source": [
    "for fila in filas_ner:\n",
    "    if fila['patient_id'] == 9:\n",
    "        print(fila)"
   ],
   "metadata": {
    "colab": {
     "base_uri": "https://localhost:8080/"
    },
    "id": "DzGo9kQ8Y_0d",
    "outputId": "a8fe32b8-f685-44cb-d924-804969579f7e"
   },
   "execution_count": 105,
   "outputs": [
    {
     "output_type": "stream",
     "name": "stdout",
     "text": [
      "{'patient_id': 9, 'sentence': 'Paciente de 37 a\u00f1os a la que se le realizo en junio de 2011 una ecograf\u00eda mamaria por notarse una tumoraci\u00f3n en mama derecha objetiv\u00e1ndose una lesi\u00f3n de 16 x 7 mm.', 'NER': '37 a\u00f1os', 'NER_label': 'AGE'}\n",
      "{'patient_id': 9, 'sentence': 'Paciente de 37 a\u00f1os a la que se le realizo en junio de 2011 una ecograf\u00eda mamaria por notarse una tumoraci\u00f3n en mama derecha objetiv\u00e1ndose una lesi\u00f3n de 16 x 7 mm.', 'NER': 'junio de 2011', 'NER_label': 'DATE'}\n",
      "{'patient_id': 9, 'sentence': 'Paciente de 37 a\u00f1os a la que se le realizo en junio de 2011 una ecograf\u00eda mamaria por notarse una tumoraci\u00f3n en mama derecha objetiv\u00e1ndose una lesi\u00f3n de 16 x 7 mm.', 'NER': 'tumoraci\u00f3n en mama derecha', 'NER_label': 'CANCER_CONCEPT'}\n",
      "{'patient_id': 9, 'sentence': 'En agosto de 2011 se realiza BAG: incluye un lobulillo con fibrosis, sin otras lesiones significativas.', 'NER': 'agosto de 2011', 'NER_label': 'DATE'}\n",
      "{'patient_id': 9, 'sentence': 'No se identifica infiltraci\u00f3n tumoral.', 'NER': 'infiltraci\u00f3n', 'NER_label': 'CANCER_CONCEPT'}\n",
      "{'patient_id': 9, 'sentence': 'No se identifica infiltraci\u00f3n tumoral.', 'NER': 'tumoral', 'NER_label': 'CANCER_CONCEPT'}\n",
      "{'patient_id': 9, 'sentence': 'Se cita en 6 meses para nueva mamograf\u00eda que se realiza el 15/02/2012.', 'NER': '15/02/2012', 'NER_label': 'DATE'}\n",
      "{'patient_id': 9, 'sentence': 'Mamograf\u00eda bilateral y ecograf\u00eda de mama derecha: tumoraci\u00f3n de mama.', 'NER': 'tumoraci\u00f3n de mama', 'NER_label': 'CANCER_CONCEPT'}\n",
      "{'patient_id': 9, 'sentence': 'Se realiza punci\u00f3n con fecha 15/02/2011.', 'NER': '15/02/2011', 'NER_label': 'DATE'}\n",
      "{'patient_id': 9, 'sentence': 'Tiene realizada punci\u00f3n previa en julio de 2011.', 'NER': 'julio de 2011.', 'NER_label': 'DATE'}\n",
      "{'patient_id': 9, 'sentence': 'Caracter\u00edsticas de corresponder probablemente a TUMOR FILODES.', 'NER': 'TUMOR FILODES', 'NER_label': 'CANCER_CONCEPT'}\n",
      "{'patient_id': 9, 'sentence': 'Se realiza BAG de la lesi\u00f3n ese mismo d\u00eda: Cilindro de mama con CARCINOMA LOBULILLAR INFILTRANTE, que expresa el siguiente inmunofenotipo: - CK19 positiva, Receptores de estr\u00f3genos: positividad del 90 p.', 'NER': 'CARCINOMA LOBULILLAR INFILTRANTE', 'NER_label': 'CANCER_CONCEPT'}\n",
      "{'patient_id': 9, 'sentence': 'Se realiza BAG de la lesi\u00f3n ese mismo d\u00eda: Cilindro de mama con CARCINOMA LOBULILLAR INFILTRANTE, que expresa el siguiente inmunofenotipo: - CK19 positiva, Receptores de estr\u00f3genos: positividad del 90 p.', 'NER': 'CK19 positiva', 'NER_label': 'BIOMARKER'}\n",
      "{'patient_id': 9, 'sentence': 'Se realiza BAG de la lesi\u00f3n ese mismo d\u00eda: Cilindro de mama con CARCINOMA LOBULILLAR INFILTRANTE, que expresa el siguiente inmunofenotipo: - CK19 positiva, Receptores de estr\u00f3genos: positividad del 90 p.', 'NER': 'Receptores de estr\u00f3genos: positividad del 90 p', 'NER_label': 'BIOMARKER'}\n",
      "{'patient_id': 9, 'sentence': '- Receptores de progesterona: positividad del 75 %.', 'NER': 'Receptores de progesterona: positividad del 75 %.', 'NER_label': 'BIOMARKER'}\n",
      "{'patient_id': 9, 'sentence': 'Indice de proliferaci\u00f3n medido con ki-67 : 25 % , HER2 negativo.', 'NER': 'ki-67 : 25 %', 'NER_label': 'BIOMARKER'}\n",
      "{'patient_id': 9, 'sentence': 'Indice de proliferaci\u00f3n medido con ki-67 : 25 % , HER2 negativo.', 'NER': 'HER2 negativo', 'NER_label': 'BIOMARKER'}\n",
      "{'patient_id': 9, 'sentence': 'Se realiza mastectom\u00eda + BSGC + reconstrucci\u00f3n inmediata el 15/03/2012.', 'NER': 'mastectom\u00eda', 'NER_label': 'SURGERY'}\n",
      "{'patient_id': 9, 'sentence': 'Se realiza mastectom\u00eda + BSGC + reconstrucci\u00f3n inmediata el 15/03/2012.', 'NER': 'BSGC', 'NER_label': 'SURGERY'}\n",
      "{'patient_id': 9, 'sentence': 'Se realiza mastectom\u00eda + BSGC + reconstrucci\u00f3n inmediata el 15/03/2012.', 'NER': 'reconstrucci\u00f3n inmediata', 'NER_label': 'SURGERY'}\n",
      "{'patient_id': 9, 'sentence': 'Se realiza mastectom\u00eda + BSGC + reconstrucci\u00f3n inmediata el 15/03/2012.', 'NER': '15/03/2012', 'NER_label': 'DATE'}\n",
      "{'patient_id': 9, 'sentence': 'Pieza correspondiente a mama derecha con CARCINOMA INFILTRANTE DE PATR\u00d3N LOBULILLAR de 4,3 cm que se dispone a 1 mm del margen quir\u00fargico profundo.', 'NER': 'CARCINOMA INFILTRANTE DE PATR\u00d3N LOBULILLAR', 'NER_label': 'CANCER_CONCEPT'}\n",
      "{'patient_id': 9, 'sentence': 'Par\u00e9nquima mamario con cambios de mastopat\u00eda fibroqu\u00edstica.', 'NER': 'mastopat\u00eda fibroqu\u00edstica', 'NER_label': 'COMORBIDITY'}\n",
      "{'patient_id': 9, 'sentence': 'Ganglios linf\u00e1ticos ( los centinelas) con MET\u00c1STASIS.', 'NER': 'MET\u00c1STASIS', 'NER_label': 'CANCER_CONCEPT'}\n",
      "{'patient_id': 9, 'sentence': 'Paciente tratada con Linfadenectom\u00eda hace 2 meses.', 'NER': 'tratada', 'NER_label': 'OCURRENCE_EVENT'}\n",
      "{'patient_id': 9, 'sentence': 'Paciente tratada con Linfadenectom\u00eda hace 2 meses.', 'NER': 'Linfadenectom\u00eda', 'NER_label': 'SURGERY'}\n",
      "{'patient_id': 9, 'sentence': 'Paciente tratada con Linfadenectom\u00eda hace 2 meses.', 'NER': 'hace 2 meses', 'NER_label': 'IMPLICIT_DATE'}\n",
      "{'patient_id': 9, 'sentence': 'Paciente tratada con Linfadenectom\u00eda hace 2 meses.', 'NER': 'tratada', 'NER_label': 'OCURRENCE_EVENT'}\n",
      "{'patient_id': 9, 'sentence': 'Paciente tratada con Linfadenectom\u00eda hace 2 meses.', 'NER': 'Linfadenectom\u00eda', 'NER_label': 'SURGERY'}\n",
      "{'patient_id': 9, 'sentence': 'Paciente tratada con Linfadenectom\u00eda hace 2 meses.', 'NER': 'hace 2 meses', 'NER_label': 'IMPLICIT_DATE'}\n",
      "{'patient_id': 9, 'sentence': 'Env\u00edan a la paciente para valorar adyuvancia.', 'NER': 'adyuvancia', 'NER_label': 'TREATMENT_NAME'}\n",
      "{'patient_id': 9, 'sentence': 'Indice de proliferaci\u00f3n medido con ki-67 25 %, HER2 negativo.', 'NER': 'ki-67 25 %', 'NER_label': 'BIOMARKER'}\n",
      "{'patient_id': 9, 'sentence': 'Indice de proliferaci\u00f3n medido con ki-67 25 %, HER2 negativo.', 'NER': 'HER2 negativo', 'NER_label': 'BIOMARKER'}\n"
     ]
    }
   ]
  },
  {
   "cell_type": "markdown",
   "source": [
    "# \ud83d\udeab Carga del modelo de detecci\u00f3n de negaci\u00f3n e incertidumbre\n",
    "\n",
    "Se carga el modelo `JuanSolarte99/bert-base-uncased-finetuned-ner-negation_detection_NUBES`, dise\u00f1ado para detectar expresiones de **negaci\u00f3n** y **incertidumbre diagn\u00f3stica** en textos cl\u00ednicos.\n",
    "\n",
    "Este modelo se utiliza mediante el pipeline de `transformers` con estrategia de agregaci\u00f3n `\"simple\"`, que agrupa subpalabras en entidades completas.\n",
    "\n",
    "El pipeline resultante, `neg_pipe`, permitir\u00e1 analizar cada oraci\u00f3n cl\u00ednica para determinar si una entidad est\u00e1 expresada de forma afirmativa, negada o con incertidumbre.\n"
   ],
   "metadata": {
    "id": "CgL1Xxfv_buS"
   }
  },
  {
   "cell_type": "code",
   "source": [
    "# 0. Cargar modelo de negaci\u00f3n / incertidumbre\n",
    "\n",
    "neg_model_id = \"JuanSolarte99/bert-base-uncased-finetuned-ner-negation_detection_NUBES\"\n",
    "\n",
    "from transformers import AutoTokenizer, AutoModelForTokenClassification, pipeline\n",
    "neg_pipe = pipeline(\n",
    "    \"ner\",\n",
    "    model     = AutoModelForTokenClassification.from_pretrained(neg_model_id),\n",
    "    tokenizer = AutoTokenizer.from_pretrained(neg_model_id),\n",
    "    aggregation_strategy=\"simple\"\n",
    ")\n"
   ],
   "metadata": {
    "colab": {
     "base_uri": "https://localhost:8080/"
    },
    "id": "xqzXtV4wdA8B",
    "outputId": "64ad3502-0765-4167-d6fe-71e8ad8f1d87"
   },
   "execution_count": 108,
   "outputs": [
    {
     "output_type": "stream",
     "name": "stderr",
     "text": [
      "Device set to use cuda:0\n"
     ]
    }
   ]
  },
  {
   "cell_type": "markdown",
   "source": [
    "# \ud83d\uddc2\ufe0f Mapeo manual de etiquetas del modelo de negaci\u00f3n\n",
    "\n",
    "El modelo de negaci\u00f3n/incertidumbre devuelve etiquetas gen\u00e9ricas (`LABEL_0` a `LABEL_8`) que no tienen una interpretaci\u00f3n expl\u00edcita. Por ello, se realiza un **mapeo manual** (`label2nombre`) para asignar a cada etiqueta un nombre representativo y funcional.\n",
    "\n",
    "Adem\u00e1s, se definen dos conjuntos clave:\n",
    "\n",
    "- `NEGADAS`: agrupa las etiquetas asociadas a expresiones de **negaci\u00f3n** y a entidades negadas.\n",
    "- `INCIERTAS`: agrupa las etiquetas que indican **incertidumbre diagn\u00f3stica** o ambig\u00fcedad en el texto.\n",
    "\n",
    "Este mapeo es esencial para clasificar correctamente el estado final de cada entidad extra\u00edda (Afirmativa, Negada o Sospechosa) en los pasos posteriores.\n"
   ],
   "metadata": {
    "id": "ECbGGIVI_niI"
   }
  },
  {
   "cell_type": "code",
   "source": [
    "# 1. Mapeo manual y conjuntos para decidir el Estado\n",
    "\n",
    "label2nombre = {\n",
    "    \"LABEL_0\": \"CUE_NEG\",\n",
    "    \"LABEL_1\": \"B-NEG_ENT\",\n",
    "    \"LABEL_2\": \"B-UNC_CUE\",\n",
    "    \"LABEL_3\": \"B-UNC_ENT\",\n",
    "    \"LABEL_4\": \"LINK_NEG\",\n",
    "    \"LABEL_5\": \"I-NEG_ENT\",\n",
    "    \"LABEL_6\": \"I-UNC_CUE\",\n",
    "    \"LABEL_7\": \"I-UNC_ENT\",\n",
    "    \"LABEL_8\": \"O\"\n",
    "}\n",
    "\n",
    "NEGADAS   = {\"LABEL_0\", \"LABEL_1\", \"LABEL_4\", \"LABEL_5\"}\n",
    "INCIERTAS = {\"LABEL_2\", \"LABEL_3\", \"LABEL_6\", \"LABEL_7\"}\n"
   ],
   "metadata": {
    "id": "OG8zgJwdiONz"
   },
   "execution_count": 120,
   "outputs": []
  },
  {
   "cell_type": "markdown",
   "source": [
    "# \u2734\ufe0f Heur\u00edstica para determinar el Estado de la entidad\n",
    "\n",
    "Se define la funci\u00f3n `estado_entidad_heur` que clasifica cada entidad extra\u00edda como **Afirmativa**, **Negada** o **Sospechosa**, utilizando los resultados del modelo de negaci\u00f3n.\n",
    "\n",
    "Durante el desarrollo se identificaron casos donde una misma oraci\u00f3n conten\u00eda m\u00faltiples entidades con distintos estados (por ejemplo, una afirmada y otra negada). Para mitigar estos errores, se implement\u00f3 una **heur\u00edstica basada en puntuaci\u00f3n** (`PUNTOS`), que delimita los **\u00e1mbitos** de las expresiones de negaci\u00f3n o incertidumbre.\n",
    "\n",
    "### L\u00f3gica de la heur\u00edstica:\n",
    "\n",
    "1. **Cue dentro de la entidad:**  \n",
    "   Si un cue de negaci\u00f3n (`CUE_NEG`) o incertidumbre (`UNC_CUE`) est\u00e1 **dentro del span de la entidad**, se clasifica directamente como `Negada` o `Sospechosa`.\n",
    "\n",
    "2. **Cue antes de la entidad y mismo \u00e1mbito:**  \n",
    "   Si el cue aparece antes de la entidad pero **antes del siguiente signo de puntuaci\u00f3n**, se asume que afecta a la entidad:\n",
    "   - `Negada` si el cue es de negaci\u00f3n.\n",
    "   - `Sospechosa` si es de incertidumbre.\n",
    "\n",
    "3. **Por defecto:**  \n",
    "   Si no se encuentra ning\u00fan cue relevante, se clasifica como `Afirmativa`.\n",
    "\n",
    "Esta funci\u00f3n es clave para **asociar correctamente el contexto ling\u00fc\u00edstico** a cada entidad identificada en las historias cl\u00ednicas.\n"
   ],
   "metadata": {
    "id": "mdsjDJUyCBoM"
   }
  },
  {
   "cell_type": "code",
   "source": [
    "import re, string\n",
    "\n",
    "PUNTOS    = {\",\", \";\", \":\", \".\"}\n",
    "NEG_CUES  = {\"LABEL_0\"}              # CUE_NEG\n",
    "UNC_CUES  = {\"LABEL_2\", \"LABEL_6\"}   # cues de incertidumbre\n",
    "\n",
    "def estado_entidad_heur(ent, tokens_neg, sentence):\n",
    "    e_start, e_end = ent[\"start\"], ent[\"end\"]\n",
    "\n",
    "    # 0) \u00bfHay un cue DENTRO de la entidad?\n",
    "    for tok in tokens_neg:\n",
    "        lab = tok.get(\"entity_group\") or tok[\"entity\"]\n",
    "        if lab in NEG_CUES and tok[\"start\"] >= e_start and tok[\"end\"] <= e_end:\n",
    "            return \"Negada\"\n",
    "        if lab in UNC_CUES and tok[\"start\"] >= e_start and tok[\"end\"] <= e_end:\n",
    "            return \"Sospechosa\"\n",
    "\n",
    "    # helper: pr\u00f3xima puntuaci\u00f3n tras un \u00edndice\n",
    "    def next_punct(pos):\n",
    "        for idx in range(pos, len(sentence)):\n",
    "            if sentence[idx] in PUNTOS:\n",
    "                return idx\n",
    "        return len(sentence)\n",
    "\n",
    "    # 1) CUE_NEG antes de la entidad y mismo \u00e1mbito\n",
    "    for tok in tokens_neg:\n",
    "        lab = tok.get(\"entity_group\") or tok[\"entity\"]\n",
    "        if lab in NEG_CUES:\n",
    "            cue_end   = tok[\"end\"]\n",
    "            scope_end = next_punct(cue_end)\n",
    "            if e_start >= cue_end and e_end <= scope_end:\n",
    "                return \"Negada\"\n",
    "\n",
    "    # 2) CUE_UNC antes de la entidad y mismo \u00e1mbito\n",
    "    for tok in tokens_neg:\n",
    "        lab = tok.get(\"entity_group\") or tok[\"entity\"]\n",
    "        if lab in UNC_CUES:\n",
    "            cue_end   = tok[\"end\"]\n",
    "            scope_end = next_punct(cue_end)\n",
    "            if e_start >= cue_end and e_end <= scope_end:\n",
    "                return \"Sospechosa\"\n",
    "\n",
    "    # 3) Por defecto\n",
    "    return \"Afirmativa\"\n"
   ],
   "metadata": {
    "id": "mrrI5ABzjjoI"
   },
   "execution_count": 136,
   "outputs": []
  },
  {
   "cell_type": "markdown",
   "source": [
    "# \ud83e\udde0 Integraci\u00f3n de entidades con clasificaci\u00f3n de Estado\n",
    "\n",
    "Se recorre cada oraci\u00f3n de cada paciente y se integran ambos modelos (NER e identificaci\u00f3n de negaci\u00f3n/incertidumbre) para construir la tabla final estructurada.\n",
    "\n",
    "### Proceso:\n",
    "\n",
    "1. **Extracci\u00f3n de entidades cl\u00ednicas:**  \n",
    "   Se aplica el modelo NER a la oraci\u00f3n para identificar entidades como biomarcadores, diagn\u00f3sticos, tratamientos, etc.\n",
    "\n",
    "2. **Detecci\u00f3n de tokens de negaci\u00f3n e incertidumbre:**  \n",
    "   Se aplica el segundo modelo para obtener los cues ling\u00fc\u00edsticos que indican **negaci\u00f3n** o **incertidumbre** (como \u201cno\u201d, \u201causencia\u201d, \u201cprobable\u201d, \u201csugestivo\u201d, etc.).\n",
    "\n",
    "3. **Clasificaci\u00f3n contextual de cada entidad:**  \n",
    "   Para **cada entidad encontrada**, se llama a la funci\u00f3n `estado_entidad_heur`, que eval\u00faa su contexto y determina si est\u00e1:\n",
    "   - `Afirmativa`\n",
    "   - `Negada`\n",
    "   - `Sospechosa`\n",
    "\n",
    "4. **Construcci\u00f3n de la base estructurada:**  \n",
    "   Por cada entidad extra\u00edda se guarda una fila con:\n",
    "   - `patient_id`: Identificador del archivo procesado.\n",
    "   - `sentence`: La oraci\u00f3n completa donde se encontr\u00f3 la entidad.\n",
    "   - `NER`: El texto de la entidad.\n",
    "   - `NER_label`: La categor\u00eda sem\u00e1ntica asignada por el modelo NER.\n",
    "   - `Estado`: Resultado de la clasificaci\u00f3n contextual (negada, sospechosa, afirmativa).\n",
    "\n",
    "Este paso permite obtener una base final lista para exportar y analizar en formatos estructurados como CSV o DataFrame de Pandas.\n"
   ],
   "metadata": {
    "id": "GgiIgmfADObg"
   }
  },
  {
   "cell_type": "code",
   "source": [
    "filas_final = []\n",
    "\n",
    "for patient_id, oraciones in historias.items():\n",
    "    for sentence in oraciones:\n",
    "\n",
    "        # 1. entidades cl\u00ednicas con spans\n",
    "        ents = ner_pipe(sentence)\n",
    "        if not ents:\n",
    "            continue\n",
    "\n",
    "        # 2. tokens del modelo de negaci\u00f3n (tambi\u00e9n traen spans)\n",
    "        tok_neg = neg_pipe(sentence)\n",
    "\n",
    "        # 3. clasifica CADA entidad por separado\n",
    "        for ent in ents:\n",
    "            filas_final.append({\n",
    "                \"patient_id\": patient_id,\n",
    "                \"sentence\":   sentence,\n",
    "                \"NER\":        ent[\"word\"],\n",
    "                \"NER_label\":  ent.get(\"entity_group\") or ent.get(\"entity\"),\n",
    "                \"Estado\":     estado_entidad_heur(ent, tok_neg, sentence)\n",
    "            })\n"
   ],
   "metadata": {
    "id": "QOrQR9wPozM8"
   },
   "execution_count": 137,
   "outputs": []
  },
  {
   "cell_type": "code",
   "source": [
    "for fila in filas_final:\n",
    "    if fila['patient_id'] == 4:\n",
    "        print(fila)"
   ],
   "metadata": {
    "colab": {
     "base_uri": "https://localhost:8080/"
    },
    "id": "5DDujetwpQVS",
    "outputId": "58823558-f7b2-4cba-d706-937286790ef6"
   },
   "execution_count": 174,
   "outputs": [
    {
     "output_type": "stream",
     "name": "stdout",
     "text": [
      "{'patient_id': 4, 'sentence': 'Carcinoma ductal infiltrante de mama derecha G2/3, pT2 pN1a cM0.', 'NER': 'Carcinoma ductal infiltrante de mama derecha', 'NER_label': 'CANCER_CONCEPT', 'Estado': 'Afirmativa'}\n",
      "{'patient_id': 4, 'sentence': 'Carcinoma ductal infiltrante de mama derecha G2/3, pT2 pN1a cM0.', 'NER': 'G2/3', 'NER_label': 'STAGE', 'Estado': 'Afirmativa'}\n",
      "{'patient_id': 4, 'sentence': 'Carcinoma ductal infiltrante de mama derecha G2/3, pT2 pN1a cM0.', 'NER': 'pT2 pN1a cM0', 'NER_label': 'TNM', 'Estado': 'Afirmativa'}\n",
      "{'patient_id': 4, 'sentence': 'Carcinoma ductal infiltrante de mama derecha G2/3, pT2 pN1a cM0.', 'NER': 'Carcinoma ductal infiltrante de mama derecha', 'NER_label': 'CANCER_CONCEPT', 'Estado': 'Afirmativa'}\n",
      "{'patient_id': 4, 'sentence': 'Carcinoma ductal infiltrante de mama derecha G2/3, pT2 pN1a cM0.', 'NER': 'G2/3', 'NER_label': 'STAGE', 'Estado': 'Afirmativa'}\n",
      "{'patient_id': 4, 'sentence': 'Carcinoma ductal infiltrante de mama derecha G2/3, pT2 pN1a cM0.', 'NER': 'pT2 pN1a cM0', 'NER_label': 'TNM', 'Estado': 'Afirmativa'}\n",
      "{'patient_id': 4, 'sentence': 'RH positivos, Her2 negativo.', 'NER': 'RH positivos', 'NER_label': 'BIOMARKER', 'Estado': 'Afirmativa'}\n",
      "{'patient_id': 4, 'sentence': 'RH positivos, Her2 negativo.', 'NER': 'Her2 negativo', 'NER_label': 'BIOMARKER', 'Estado': 'Negada'}\n",
      "{'patient_id': 4, 'sentence': 'Tratado con cuadrantectom\u00eda en AGOSTO del 2014.', 'NER': 'Tratado', 'NER_label': 'OCURRENCE_EVENT', 'Estado': 'Afirmativa'}\n",
      "{'patient_id': 4, 'sentence': 'Tratado con cuadrantectom\u00eda en AGOSTO del 2014.', 'NER': 'cuadrantectom\u00eda', 'NER_label': 'SURGERY', 'Estado': 'Afirmativa'}\n",
      "{'patient_id': 4, 'sentence': 'Tratado con cuadrantectom\u00eda en AGOSTO del 2014.', 'NER': 'AGOSTO del 2014.', 'NER_label': 'DATE', 'Estado': 'Afirmativa'}\n",
      "{'patient_id': 4, 'sentence': 'Ha recibico AC - Paclitaxel , RT y TAMOXIFENO desde Julio del 2015.', 'NER': 'AC', 'NER_label': 'DRUG', 'Estado': 'Afirmativa'}\n",
      "{'patient_id': 4, 'sentence': 'Ha recibico AC - Paclitaxel , RT y TAMOXIFENO desde Julio del 2015.', 'NER': 'Paclitaxel', 'NER_label': 'DRUG', 'Estado': 'Afirmativa'}\n",
      "{'patient_id': 4, 'sentence': 'Ha recibico AC - Paclitaxel , RT y TAMOXIFENO desde Julio del 2015.', 'NER': 'RT', 'NER_label': 'TREATMENT_NAME', 'Estado': 'Afirmativa'}\n",
      "{'patient_id': 4, 'sentence': 'Ha recibico AC - Paclitaxel , RT y TAMOXIFENO desde Julio del 2015.', 'NER': 'TAMOXIFENO', 'NER_label': 'DRUG', 'Estado': 'Afirmativa'}\n",
      "{'patient_id': 4, 'sentence': 'Ha recibico AC - Paclitaxel , RT y TAMOXIFENO desde Julio del 2015.', 'NER': 'Julio del 2015.', 'NER_label': 'DATE', 'Estado': 'Afirmativa'}\n",
      "{'patient_id': 4, 'sentence': 'En tto con ZOLADEX + EXEMESTANO desde Julio del 2016.', 'NER': 'ZOLADEX', 'NER_label': 'DRUG', 'Estado': 'Afirmativa'}\n",
      "{'patient_id': 4, 'sentence': 'En tto con ZOLADEX + EXEMESTANO desde Julio del 2016.', 'NER': 'EXEMESTANO', 'NER_label': 'DRUG', 'Estado': 'Afirmativa'}\n",
      "{'patient_id': 4, 'sentence': 'En tto con ZOLADEX + EXEMESTANO desde Julio del 2016.', 'NER': 'Julio del 2016.', 'NER_label': 'DATE', 'Estado': 'Afirmativa'}\n",
      "{'patient_id': 4, 'sentence': 'Suspendido ZOLADEX en Agosto del 2018.', 'NER': 'Suspendido', 'NER_label': 'OCURRENCE_EVENT', 'Estado': 'Negada'}\n",
      "{'patient_id': 4, 'sentence': 'Suspendido ZOLADEX en Agosto del 2018.', 'NER': 'ZOLADEX', 'NER_label': 'DRUG', 'Estado': 'Negada'}\n",
      "{'patient_id': 4, 'sentence': 'Suspendido ZOLADEX en Agosto del 2018.', 'NER': 'Agosto del 2018.', 'NER_label': 'DATE', 'Estado': 'Afirmativa'}\n",
      "{'patient_id': 4, 'sentence': 'En tto con exemestano que sustituyo por TAMOXIFENo ya que ha comenzado a tener menstruaciones irregilares.', 'NER': 'exemestano', 'NER_label': 'DRUG', 'Estado': 'Afirmativa'}\n",
      "{'patient_id': 4, 'sentence': 'En tto con exemestano que sustituyo por TAMOXIFENo ya que ha comenzado a tener menstruaciones irregilares.', 'NER': 'sustituyo', 'NER_label': 'OCURRENCE_EVENT', 'Estado': 'Afirmativa'}\n",
      "{'patient_id': 4, 'sentence': 'En tto con exemestano que sustituyo por TAMOXIFENo ya que ha comenzado a tener menstruaciones irregilares.', 'NER': 'TAMOXIFENo', 'NER_label': 'DRUG', 'Estado': 'Afirmativa'}\n",
      "{'patient_id': 4, 'sentence': 'En tto con exemestano que sustituyo por TAMOXIFENo ya que ha comenzado a tener menstruaciones irregilares.', 'NER': 'menstruaciones irregilares', 'NER_label': 'GINECOLOGICAL_HISTORY', 'Estado': 'Afirmativa'}\n",
      "{'patient_id': 4, 'sentence': 'Menstruaciones irregulares.', 'NER': 'Menstruaciones irregulares', 'NER_label': 'GINECOLOGICAL_HISTORY', 'Estado': 'Afirmativa'}\n"
     ]
    }
   ]
  },
  {
   "cell_type": "code",
   "source": [
    "import pandas as pd\n",
    "df = pd.DataFrame(filas_final)\n",
    "ruta_csv = \"/content/drive/MyDrive/Analitica en Salud/hist_clinicas_ner_neg.csv\"\n",
    "df.to_csv(ruta_csv, index=False, encoding=\"utf-8\")\n",
    "print(f\"\u2705 CSV final con Estado por entidad guardado en: {ruta_csv}\")"
   ],
   "metadata": {
    "colab": {
     "base_uri": "https://localhost:8080/"
    },
    "id": "xGEplzwZq8FE",
    "outputId": "805edb2b-607e-41cb-cfa3-2665b3c905e7"
   },
   "execution_count": 141,
   "outputs": [
    {
     "output_type": "stream",
     "name": "stdout",
     "text": [
      "\u2705 CSV final con Estado por entidad guardado en: /content/drive/MyDrive/Analitica en Salud/hist_clinicas_ner_neg.csv\n"
     ]
    }
   ]
  },
  {
   "cell_type": "code",
   "source": [],
   "metadata": {
    "id": "tYeBqemeKbnG"
   },
   "execution_count": null,
   "outputs": []
  }
 ]
}
