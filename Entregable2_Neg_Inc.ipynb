{
 "nbformat": 4,
 "nbformat_minor": 0,
 "metadata": {
  "colab": {
   "provenance": []
  },
  "kernelspec": {
   "name": "python3",
   "display_name": "Python 3"
  },
  "language_info": {
   "name": "python"
  }
 },
 "cells": [
  {
   "cell_type": "markdown",
   "source": [
    "## Integrantes\n",
    "### Fernando Valencia 2401899-7727"

   ],
   "metadata": {
    "id": "JeUXJxQOAatT"
   }
  },
  {
   "cell_type": "markdown",
   "source": [
    "# \ud83d\udccc Entregable 2 \u2013 Validaci\u00f3n de Negaci\u00f3n e Incertidumbre\n",
    "\n",
    "Se desarrolla un script en Python que carga el modelo [`JuanSolarte99/bert-base-uncased-finetuned-ner-negation_detection_NUBES`](https://huggingface.co/JuanSolarte99/bert-base-uncased-finetuned-ner-negation_detection_NUBES) para identificar si una entidad cl\u00ednica est\u00e1 afirmada, negada o en estado de incertidumbre.\n",
    "\n"
   ],
   "metadata": {
    "id": "9cHm1K62YDUH"
   }
  },
  {
   "cell_type": "code",
   "execution_count": null,
   "metadata": {
    "colab": {
     "base_uri": "https://localhost:8080/"
    },
    "id": "-DuMBrxwmmjy",
    "outputId": "5ca69d6b-1414-4e77-9b59-f40fb9fa1920"
   },
   "outputs": [
    {
     "output_type": "stream",
     "name": "stdout",
     "text": [
      "Requirement already satisfied: transformers in /usr/local/lib/python3.11/dist-packages (4.53.0)\n",
      "Requirement already satisfied: filelock in /usr/local/lib/python3.11/dist-packages (from transformers) (3.18.0)\n",
      "Requirement already satisfied: huggingface-hub<1.0,>=0.30.0 in /usr/local/lib/python3.11/dist-packages (from transformers) (0.33.1)\n",
      "Requirement already satisfied: numpy>=1.17 in /usr/local/lib/python3.11/dist-packages (from transformers) (2.0.2)\n",
      "Requirement already satisfied: packaging>=20.0 in /usr/local/lib/python3.11/dist-packages (from transformers) (24.2)\n",
      "Requirement already satisfied: pyyaml>=5.1 in /usr/local/lib/python3.11/dist-packages (from transformers) (6.0.2)\n",
      "Requirement already satisfied: regex!=2019.12.17 in /usr/local/lib/python3.11/dist-packages (from transformers) (2024.11.6)\n",
      "Requirement already satisfied: requests in /usr/local/lib/python3.11/dist-packages (from transformers) (2.32.3)\n",
      "Requirement already satisfied: tokenizers<0.22,>=0.21 in /usr/local/lib/python3.11/dist-packages (from transformers) (0.21.2)\n",
      "Requirement already satisfied: safetensors>=0.4.3 in /usr/local/lib/python3.11/dist-packages (from transformers) (0.5.3)\n",
      "Requirement already satisfied: tqdm>=4.27 in /usr/local/lib/python3.11/dist-packages (from transformers) (4.67.1)\n",
      "Requirement already satisfied: fsspec>=2023.5.0 in /usr/local/lib/python3.11/dist-packages (from huggingface-hub<1.0,>=0.30.0->transformers) (2025.3.2)\n",
      "Requirement already satisfied: typing-extensions>=3.7.4.3 in /usr/local/lib/python3.11/dist-packages (from huggingface-hub<1.0,>=0.30.0->transformers) (4.14.0)\n",
      "Requirement already satisfied: hf-xet<2.0.0,>=1.1.2 in /usr/local/lib/python3.11/dist-packages (from huggingface-hub<1.0,>=0.30.0->transformers) (1.1.5)\n",
      "Requirement already satisfied: charset-normalizer<4,>=2 in /usr/local/lib/python3.11/dist-packages (from requests->transformers) (3.4.2)\n",
      "Requirement already satisfied: idna<4,>=2.5 in /usr/local/lib/python3.11/dist-packages (from requests->transformers) (3.10)\n",
      "Requirement already satisfied: urllib3<3,>=1.21.1 in /usr/local/lib/python3.11/dist-packages (from requests->transformers) (2.4.0)\n",
      "Requirement already satisfied: certifi>=2017.4.17 in /usr/local/lib/python3.11/dist-packages (from requests->transformers) (2025.6.15)\n",
      "Requirement already satisfied: torch in /usr/local/lib/python3.11/dist-packages (2.6.0+cu124)\n",
      "Requirement already satisfied: filelock in /usr/local/lib/python3.11/dist-packages (from torch) (3.18.0)\n",
      "Requirement already satisfied: typing-extensions>=4.10.0 in /usr/local/lib/python3.11/dist-packages (from torch) (4.14.0)\n",
      "Requirement already satisfied: networkx in /usr/local/lib/python3.11/dist-packages (from torch) (3.5)\n",
      "Requirement already satisfied: jinja2 in /usr/local/lib/python3.11/dist-packages (from torch) (3.1.6)\n",
      "Requirement already satisfied: fsspec in /usr/local/lib/python3.11/dist-packages (from torch) (2025.3.2)\n",
      "Collecting nvidia-cuda-nvrtc-cu12==12.4.127 (from torch)\n",
      "  Downloading nvidia_cuda_nvrtc_cu12-12.4.127-py3-none-manylinux2014_x86_64.whl.metadata (1.5 kB)\n",
      "Collecting nvidia-cuda-runtime-cu12==12.4.127 (from torch)\n",
      "  Downloading nvidia_cuda_runtime_cu12-12.4.127-py3-none-manylinux2014_x86_64.whl.metadata (1.5 kB)\n",
      "Collecting nvidia-cuda-cupti-cu12==12.4.127 (from torch)\n",
      "  Downloading nvidia_cuda_cupti_cu12-12.4.127-py3-none-manylinux2014_x86_64.whl.metadata (1.6 kB)\n",
      "Collecting nvidia-cudnn-cu12==9.1.0.70 (from torch)\n",
      "  Downloading nvidia_cudnn_cu12-9.1.0.70-py3-none-manylinux2014_x86_64.whl.metadata (1.6 kB)\n",
      "Collecting nvidia-cublas-cu12==12.4.5.8 (from torch)\n",
      "  Downloading nvidia_cublas_cu12-12.4.5.8-py3-none-manylinux2014_x86_64.whl.metadata (1.5 kB)\n",
      "Collecting nvidia-cufft-cu12==11.2.1.3 (from torch)\n",
      "  Downloading nvidia_cufft_cu12-11.2.1.3-py3-none-manylinux2014_x86_64.whl.metadata (1.5 kB)\n",
      "Collecting nvidia-curand-cu12==10.3.5.147 (from torch)\n",
      "  Downloading nvidia_curand_cu12-10.3.5.147-py3-none-manylinux2014_x86_64.whl.metadata (1.5 kB)\n",
      "Collecting nvidia-cusolver-cu12==11.6.1.9 (from torch)\n",
      "  Downloading nvidia_cusolver_cu12-11.6.1.9-py3-none-manylinux2014_x86_64.whl.metadata (1.6 kB)\n",
      "Collecting nvidia-cusparse-cu12==12.3.1.170 (from torch)\n",
      "  Downloading nvidia_cusparse_cu12-12.3.1.170-py3-none-manylinux2014_x86_64.whl.metadata (1.6 kB)\n",
      "Requirement already satisfied: nvidia-cusparselt-cu12==0.6.2 in /usr/local/lib/python3.11/dist-packages (from torch) (0.6.2)\n",
      "Requirement already satisfied: nvidia-nccl-cu12==2.21.5 in /usr/local/lib/python3.11/dist-packages (from torch) (2.21.5)\n",
      "Requirement already satisfied: nvidia-nvtx-cu12==12.4.127 in /usr/local/lib/python3.11/dist-packages (from torch) (12.4.127)\n",
      "Collecting nvidia-nvjitlink-cu12==12.4.127 (from torch)\n",
      "  Downloading nvidia_nvjitlink_cu12-12.4.127-py3-none-manylinux2014_x86_64.whl.metadata (1.5 kB)\n",
      "Requirement already satisfied: triton==3.2.0 in /usr/local/lib/python3.11/dist-packages (from torch) (3.2.0)\n",
      "Requirement already satisfied: sympy==1.13.1 in /usr/local/lib/python3.11/dist-packages (from torch) (1.13.1)\n",
      "Requirement already satisfied: mpmath<1.4,>=1.1.0 in /usr/local/lib/python3.11/dist-packages (from sympy==1.13.1->torch) (1.3.0)\n",
      "Requirement already satisfied: MarkupSafe>=2.0 in /usr/local/lib/python3.11/dist-packages (from jinja2->torch) (3.0.2)\n",
      "Downloading nvidia_cublas_cu12-12.4.5.8-py3-none-manylinux2014_x86_64.whl (363.4 MB)\n",
      "\u001b[2K   \u001b[90m\u2501\u2501\u2501\u2501\u2501\u2501\u2501\u2501\u2501\u2501\u2501\u2501\u2501\u2501\u2501\u2501\u2501\u2501\u2501\u2501\u2501\u2501\u2501\u2501\u2501\u2501\u2501\u2501\u2501\u2501\u2501\u2501\u2501\u2501\u2501\u2501\u2501\u2501\u2501\u2501\u001b[0m \u001b[32m363.4/363.4 MB\u001b[0m \u001b[31m2.9 MB/s\u001b[0m eta \u001b[36m0:00:00\u001b[0m\n",
      "\u001b[?25hDownloading nvidia_cuda_cupti_cu12-12.4.127-py3-none-manylinux2014_x86_64.whl (13.8 MB)\n",
      "\u001b[2K   \u001b[90m\u2501\u2501\u2501\u2501\u2501\u2501\u2501\u2501\u2501\u2501\u2501\u2501\u2501\u2501\u2501\u2501\u2501\u2501\u2501\u2501\u2501\u2501\u2501\u2501\u2501\u2501\u2501\u2501\u2501\u2501\u2501\u2501\u2501\u2501\u2501\u2501\u2501\u2501\u2501\u2501\u001b[0m \u001b[32m13.8/13.8 MB\u001b[0m \u001b[31m100.8 MB/s\u001b[0m eta \u001b[36m0:00:00\u001b[0m\n",
      "\u001b[?25hDownloading nvidia_cuda_nvrtc_cu12-12.4.127-py3-none-manylinux2014_x86_64.whl (24.6 MB)\n",
      "\u001b[2K   \u001b[90m\u2501\u2501\u2501\u2501\u2501\u2501\u2501\u2501\u2501\u2501\u2501\u2501\u2501\u2501\u2501\u2501\u2501\u2501\u2501\u2501\u2501\u2501\u2501\u2501\u2501\u2501\u2501\u2501\u2501\u2501\u2501\u2501\u2501\u2501\u2501\u2501\u2501\u2501\u2501\u2501\u001b[0m \u001b[32m24.6/24.6 MB\u001b[0m \u001b[31m73.8 MB/s\u001b[0m eta \u001b[36m0:00:00\u001b[0m\n",
      "\u001b[?25hDownloading nvidia_cuda_runtime_cu12-12.4.127-py3-none-manylinux2014_x86_64.whl (883 kB)\n",
      "\u001b[2K   \u001b[90m\u2501\u2501\u2501\u2501\u2501\u2501\u2501\u2501\u2501\u2501\u2501\u2501\u2501\u2501\u2501\u2501\u2501\u2501\u2501\u2501\u2501\u2501\u2501\u2501\u2501\u2501\u2501\u2501\u2501\u2501\u2501\u2501\u2501\u2501\u2501\u2501\u2501\u2501\u2501\u2501\u001b[0m \u001b[32m883.7/883.7 kB\u001b[0m \u001b[31m46.4 MB/s\u001b[0m eta \u001b[36m0:00:00\u001b[0m\n",
      "\u001b[?25hDownloading nvidia_cudnn_cu12-9.1.0.70-py3-none-manylinux2014_x86_64.whl (664.8 MB)\n",
      "\u001b[2K   \u001b[90m\u2501\u2501\u2501\u2501\u2501\u2501\u2501\u2501\u2501\u2501\u2501\u2501\u2501\u2501\u2501\u2501\u2501\u2501\u2501\u2501\u2501\u2501\u2501\u2501\u2501\u2501\u2501\u2501\u2501\u2501\u2501\u2501\u2501\u2501\u2501\u2501\u2501\u2501\u2501\u2501\u001b[0m \u001b[32m664.8/664.8 MB\u001b[0m \u001b[31m2.5 MB/s\u001b[0m eta \u001b[36m0:00:00\u001b[0m\n",
      "\u001b[?25hDownloading nvidia_cufft_cu12-11.2.1.3-py3-none-manylinux2014_x86_64.whl (211.5 MB)\n",
      "\u001b[2K   \u001b[90m\u2501\u2501\u2501\u2501\u2501\u2501\u2501\u2501\u2501\u2501\u2501\u2501\u2501\u2501\u2501\u2501\u2501\u2501\u2501\u2501\u2501\u2501\u2501\u2501\u2501\u2501\u2501\u2501\u2501\u2501\u2501\u2501\u2501\u2501\u2501\u2501\u2501\u2501\u2501\u2501\u001b[0m \u001b[32m211.5/211.5 MB\u001b[0m \u001b[31m6.8 MB/s\u001b[0m eta \u001b[36m0:00:00\u001b[0m\n",
      "\u001b[?25hDownloading nvidia_curand_cu12-10.3.5.147-py3-none-manylinux2014_x86_64.whl (56.3 MB)\n",
      "\u001b[2K   \u001b[90m\u2501\u2501\u2501\u2501\u2501\u2501\u2501\u2501\u2501\u2501\u2501\u2501\u2501\u2501\u2501\u2501\u2501\u2501\u2501\u2501\u2501\u2501\u2501\u2501\u2501\u2501\u2501\u2501\u2501\u2501\u2501\u2501\u2501\u2501\u2501\u2501\u2501\u2501\u2501\u2501\u001b[0m \u001b[32m56.3/56.3 MB\u001b[0m \u001b[31m11.9 MB/s\u001b[0m eta \u001b[36m0:00:00\u001b[0m\n",
      "\u001b[?25hDownloading nvidia_cusolver_cu12-11.6.1.9-py3-none-manylinux2014_x86_64.whl (127.9 MB)\n",
      "\u001b[2K   \u001b[90m\u2501\u2501\u2501\u2501\u2501\u2501\u2501\u2501\u2501\u2501\u2501\u2501\u2501\u2501\u2501\u2501\u2501\u2501\u2501\u2501\u2501\u2501\u2501\u2501\u2501\u2501\u2501\u2501\u2501\u2501\u2501\u2501\u2501\u2501\u2501\u2501\u2501\u2501\u2501\u2501\u001b[0m \u001b[32m127.9/127.9 MB\u001b[0m \u001b[31m7.5 MB/s\u001b[0m eta \u001b[36m0:00:00\u001b[0m\n",
      "\u001b[?25hDownloading nvidia_cusparse_cu12-12.3.1.170-py3-none-manylinux2014_x86_64.whl (207.5 MB)\n",
      "\u001b[2K   \u001b[90m\u2501\u2501\u2501\u2501\u2501\u2501\u2501\u2501\u2501\u2501\u2501\u2501\u2501\u2501\u2501\u2501\u2501\u2501\u2501\u2501\u2501\u2501\u2501\u2501\u2501\u2501\u2501\u2501\u2501\u2501\u2501\u2501\u2501\u2501\u2501\u2501\u2501\u2501\u2501\u2501\u001b[0m \u001b[32m207.5/207.5 MB\u001b[0m \u001b[31m5.8 MB/s\u001b[0m eta \u001b[36m0:00:00\u001b[0m\n",
      "\u001b[?25hDownloading nvidia_nvjitlink_cu12-12.4.127-py3-none-manylinux2014_x86_64.whl (21.1 MB)\n",
      "\u001b[2K   \u001b[90m\u2501\u2501\u2501\u2501\u2501\u2501\u2501\u2501\u2501\u2501\u2501\u2501\u2501\u2501\u2501\u2501\u2501\u2501\u2501\u2501\u2501\u2501\u2501\u2501\u2501\u2501\u2501\u2501\u2501\u2501\u2501\u2501\u2501\u2501\u2501\u2501\u2501\u2501\u2501\u2501\u001b[0m \u001b[32m21.1/21.1 MB\u001b[0m \u001b[31m86.0 MB/s\u001b[0m eta \u001b[36m0:00:00\u001b[0m\n",
      "\u001b[?25hInstalling collected packages: nvidia-nvjitlink-cu12, nvidia-curand-cu12, nvidia-cufft-cu12, nvidia-cuda-runtime-cu12, nvidia-cuda-nvrtc-cu12, nvidia-cuda-cupti-cu12, nvidia-cublas-cu12, nvidia-cusparse-cu12, nvidia-cudnn-cu12, nvidia-cusolver-cu12\n",
      "  Attempting uninstall: nvidia-nvjitlink-cu12\n",
      "    Found existing installation: nvidia-nvjitlink-cu12 12.5.82\n",
      "    Uninstalling nvidia-nvjitlink-cu12-12.5.82:\n",
      "      Successfully uninstalled nvidia-nvjitlink-cu12-12.5.82\n",
      "  Attempting uninstall: nvidia-curand-cu12\n",
      "    Found existing installation: nvidia-curand-cu12 10.3.6.82\n",
      "    Uninstalling nvidia-curand-cu12-10.3.6.82:\n",
      "      Successfully uninstalled nvidia-curand-cu12-10.3.6.82\n",
      "  Attempting uninstall: nvidia-cufft-cu12\n",
      "    Found existing installation: nvidia-cufft-cu12 11.2.3.61\n",
      "    Uninstalling nvidia-cufft-cu12-11.2.3.61:\n",
      "      Successfully uninstalled nvidia-cufft-cu12-11.2.3.61\n",
      "  Attempting uninstall: nvidia-cuda-runtime-cu12\n",
      "    Found existing installation: nvidia-cuda-runtime-cu12 12.5.82\n",
      "    Uninstalling nvidia-cuda-runtime-cu12-12.5.82:\n",
      "      Successfully uninstalled nvidia-cuda-runtime-cu12-12.5.82\n",
      "  Attempting uninstall: nvidia-cuda-nvrtc-cu12\n",
      "    Found existing installation: nvidia-cuda-nvrtc-cu12 12.5.82\n",
      "    Uninstalling nvidia-cuda-nvrtc-cu12-12.5.82:\n",
      "      Successfully uninstalled nvidia-cuda-nvrtc-cu12-12.5.82\n",
      "  Attempting uninstall: nvidia-cuda-cupti-cu12\n",
      "    Found existing installation: nvidia-cuda-cupti-cu12 12.5.82\n",
      "    Uninstalling nvidia-cuda-cupti-cu12-12.5.82:\n",
      "      Successfully uninstalled nvidia-cuda-cupti-cu12-12.5.82\n",
      "  Attempting uninstall: nvidia-cublas-cu12\n",
      "    Found existing installation: nvidia-cublas-cu12 12.5.3.2\n",
      "    Uninstalling nvidia-cublas-cu12-12.5.3.2:\n",
      "      Successfully uninstalled nvidia-cublas-cu12-12.5.3.2\n",
      "  Attempting uninstall: nvidia-cusparse-cu12\n",
      "    Found existing installation: nvidia-cusparse-cu12 12.5.1.3\n",
      "    Uninstalling nvidia-cusparse-cu12-12.5.1.3:\n",
      "      Successfully uninstalled nvidia-cusparse-cu12-12.5.1.3\n",
      "  Attempting uninstall: nvidia-cudnn-cu12\n",
      "    Found existing installation: nvidia-cudnn-cu12 9.3.0.75\n",
      "    Uninstalling nvidia-cudnn-cu12-9.3.0.75:\n",
      "      Successfully uninstalled nvidia-cudnn-cu12-9.3.0.75\n",
      "  Attempting uninstall: nvidia-cusolver-cu12\n",
      "    Found existing installation: nvidia-cusolver-cu12 11.6.3.83\n",
      "    Uninstalling nvidia-cusolver-cu12-11.6.3.83:\n",
      "      Successfully uninstalled nvidia-cusolver-cu12-11.6.3.83\n",
      "Successfully installed nvidia-cublas-cu12-12.4.5.8 nvidia-cuda-cupti-cu12-12.4.127 nvidia-cuda-nvrtc-cu12-12.4.127 nvidia-cuda-runtime-cu12-12.4.127 nvidia-cudnn-cu12-9.1.0.70 nvidia-cufft-cu12-11.2.1.3 nvidia-curand-cu12-10.3.5.147 nvidia-cusolver-cu12-11.6.1.9 nvidia-cusparse-cu12-12.3.1.170 nvidia-nvjitlink-cu12-12.4.127\n"
     ]
    }
   ],
   "source": [
    "# Instalaci\u00f3n de librer\u00edas necesarias\n",
    "!pip install -U transformers\n",
    "!pip install torch"
   ]
  },
  {
   "cell_type": "markdown",
   "source": [
    "# \ud83d\udcc2 Carga de historias cl\u00ednicas desde Google Drive\n",
    "\n",
    "Se monta Google Drive en el entorno de Colab y se accede a la carpeta que contiene los archivos de texto con historias cl\u00ednicas. Cada archivo es le\u00eddo l\u00ednea por l\u00ednea, y se almacenan \u00fanicamente las l\u00edneas no vac\u00edas en la lista `historias`, la cual contiene todas las frases que ser\u00e1n procesadas posteriormente por los modelos de an\u00e1lisis."
   ],
   "metadata": {
    "id": "Y436Cro_FaZn"
   }
  },
  {
   "cell_type": "code",
   "source": [
    "from google.colab import drive\n",
    "import os\n",
    "drive.mount('/content/drive')\n",
    "\n",
    "carpeta_historias = \"/content/drive/MyDrive/Analitica en Salud/Negaci\u00f3n\""
   ],
   "metadata": {
    "colab": {
     "base_uri": "https://localhost:8080/"
    },
    "id": "0y-aX_ZzmuSF",
    "outputId": "34bb6533-e633-4ee1-f779-f8cb34e99b1c"
   },
   "execution_count": 1,
   "outputs": [
    {
     "output_type": "stream",
     "name": "stdout",
     "text": [
      "Mounted at /content/drive\n"
     ]
    }
   ]
  },
  {
   "cell_type": "code",
   "source": [
    "archivos = os.listdir(carpeta_historias)\n",
    "print(len(archivos))"
   ],
   "metadata": {
    "colab": {
     "base_uri": "https://localhost:8080/"
    },
    "id": "91IxzBAvmyrn",
    "outputId": "af48485c-aefd-4019-b135-5c1230e0356b"
   },
   "execution_count": 2,
   "outputs": [
    {
     "output_type": "stream",
     "name": "stdout",
     "text": [
      "106\n"
     ]
    }
   ]
  },
  {
   "cell_type": "code",
   "source": [
    "historias = []\n",
    "for archivo in archivos:\n",
    "  ruta_completa = os.path.join(carpeta_historias, archivo)\n",
    "  with open(ruta_completa, \"r\") as f:\n",
    "    for linea in f:\n",
    "      if linea.strip():\n",
    "        historias.append(linea.strip())"
   ],
   "metadata": {
    "id": "_3vOTKQYm1hm"
   },
   "execution_count": 3,
   "outputs": []
  },
  {
   "cell_type": "code",
   "source": [
    "historias[0:10]"
   ],
   "metadata": {
    "colab": {
     "base_uri": "https://localhost:8080/"
    },
    "id": "iOJ-Zma2n9bq",
    "outputId": "ea647783-b283-462b-f502-fc4ac72bcb04"
   },
   "execution_count": 4,
   "outputs": [
    {
     "output_type": "execute_result",
     "data": {
      "text/plain": [
       "['PRIMERA CONSULTA DE ONCOLOG\u00cdA M\u00c9DICA.',\n",
       " 'Antecedentes Personales:- Alergia a Fluconazol.',\n",
       " '- No HTA.',\n",
       " 'No DM.',\n",
       " 'No DL.',\n",
       " '- Niega habitos toxicos.- Candidiasis recurrentes- Iqx: ninguna.',\n",
       " 'MEDICACI\u00d3N- No medicaci\u00f3n habitual.',\n",
       " 'Muje de 59 a\u00f1os remitida desde oncolog\u00eda con Adenocarcinoma ductal infiltrante de mama izquierda, moderadamente diferenciado de 2 cm, intervenido mediante mastectom\u00eda radical izquierda el 20/06/1991.',\n",
       " '-Carcinoma lobulillar in situ residual de 2 cm en mama dcha, intervenida el 16/04/2003 mediante mastectom\u00eda radical derecha.',\n",
       " 'Recidiva pulmonar y pleural confirmada con AP en el 2012.']"
      ]
     },
     "metadata": {},
     "execution_count": 4
    }
   ]
  },
  {
   "cell_type": "code",
   "source": [
    "from huggingface_hub import login\n",
    "login()"
   ],
   "metadata": {
    "colab": {
     "base_uri": "https://localhost:8080/",
     "height": 17,
     "referenced_widgets": [
      "16541d26ac4c4ebc95210369e011c138",
      "80519063176e440a80fe84cbae5f3ae9",
      "a65b97cd3e284c018965a672d00fe47e",
      "b1d0a8a6a3194e92aa139407e66e3067",
      "0194b13208bf442199c490fe83b9ffd5",
      "724044f131aa43afb9e608ef76c682ea",
      "d5803b57338549848af4a85e966259a3",
      "91c9356b35a84eb687c9a6cea4837259",
      "068e4f816bb24a609581f7f0e11faccd",
      "b2a9a8ae39ad493181efd542839bc0be",
      "4192c7c9a5624efea07ce7d8a2f50e03",
      "e5927f05687944509d5496a6063fa36f",
      "81dd94ac79234cff8cbaa5e7a7abc6c7",
      "8f4b6312deb94a589cd1f7aba2f938ea",
      "03ccb02964a540498b71b53ec73a309a",
      "edb3c381d03f473f930c1663699b52f3",
      "c132065551574446bd887a429bbe15d0",
      "6161ce75c0094fdfae39cb9565a95045",
      "0e815fb14c4c48f383700d47081dc076",
      "0b5519e004214f518b0573eb11da958b"
     ]
    },
    "id": "aqHHKUqSn9yD",
    "outputId": "0440e3e1-4b8d-47fc-e59c-c4e13436d359"
   },
   "execution_count": 5,
   "outputs": [
    {
     "output_type": "display_data",
     "data": {
      "text/plain": [
       "VBox(children=(HTML(value='<center> <img\\nsrc=https://huggingface.co/front/assets/huggingface_logo-noborder.sv\u2026"
      ],
      "application/vnd.jupyter.widget-view+json": {
       "version_major": 2,
       "version_minor": 0,
       "model_id": "16541d26ac4c4ebc95210369e011c138"
      }
     },
     "metadata": {}
    }
   ]
  },
  {
   "cell_type": "markdown",
   "source": [
    "# \u2757 Carga del modelo de detecci\u00f3n de negaci\u00f3n e incertidumbre\n",
    "\n",
    "Se carga el modelo `JuanSolarte99/bert-base-uncased-finetuned-ner-negation_detection_NUBES` desde Hugging Face, entrenado espec\u00edficamente para detectar expresiones de negaci\u00f3n e incertidumbre en textos cl\u00ednicos. Se crea un pipeline de NER con estrategia de agregaci\u00f3n `\"simple\"` para identificar y agrupar tokens relacionados con estas expresiones.\n"
   ],
   "metadata": {
    "id": "eokwWJwtIDic"
   }
  },
  {
   "cell_type": "code",
   "source": [
    "from transformers import AutoTokenizer, AutoModelForTokenClassification, pipeline\n",
    "\n",
    "model_neg = \"JuanSolarte99/bert-base-uncased-finetuned-ner-negation_detection_NUBES\"\n",
    "tokenizer_neg = AutoTokenizer.from_pretrained(model_neg)\n",
    "model_neg = AutoModelForTokenClassification.from_pretrained(model_neg)\n",
    "\n",
    "pipeline_neg = pipeline(\"ner\", model=model_neg, tokenizer=tokenizer_neg, aggregation_strategy=\"simple\")\n"
   ],
   "metadata": {
    "colab": {
     "base_uri": "https://localhost:8080/",
     "height": 330,
     "referenced_widgets": [
      "8606e25884dc46bc987d9d1c7995596c",
      "1cc2b6d47d5d4cc99ef12753e289bb5e",
      "42e3dac8e8f340c5b4f230332be4e34b",
      "33a8b3c609fb40ebb1f70b230fbc9bd6",
      "285c2b8dc0b24a289a0b97be8fcee72e",
      "239e7c0281b046d2911deef28eee6cca",
      "1500d5552faa47e392823c9bbf2eda3a",
      "99de83eb4c654a41b9a68f34bf69bff7",
      "197b59aacf124825b9e46efa19ef2a9b",
      "ac5efacfe3a94804b120848f4919639f",
      "a567050da6f2432c93da787e9b0364f3",
      "072853a3ea5348fe98aeaf2612be924f",
      "0a35e482b5a54dd3a7f9296540c700e6",
      "56c88abc4ae14c57b345df302a296a45",
      "309538b14cab45d68ec82b4b47e29fca",
      "ef6d4c6be76449e3aa3952c523c26233",
      "c430759ef0ce429eacbcebd3809e76fa",
      "92b98c1d80144783bb1f9ecc7c5dc948",
      "dc6fba4ca73144998258a8b572af271f",
      "e3e0742313d64125875081c9b375a33b",
      "3a8566212ce04324892ba992f01d5d2a",
      "09144acc7a6943f9a30837394e16b44d",
      "ed88448dc84747f09f8dc20b287020bb",
      "407823b48f9c4189bb4c76b4d050cd37",
      "d9062090524a468088d8f325cf1bb1d7",
      "f0908bde62bd4b098714c5a1fd772b73",
      "f75bf1c3d96348569289dc11e0d55c20",
      "c1bfd536cb48422b83a5252fae1e2904",
      "9495f7e94a804f0a857825fccf7cf872",
      "aabbd8222fc949a9b05cde46b1da0552",
      "83e1fa97ae154c42b14a3070491a40d8",
      "47cd1ec2564b47988dfe846de72b17d9",
      "633ef2e0e6214f6496370722e6a5159e",
      "e8548d692de649bb849b0337e26b95df",
      "cd1856a4c1ba4525baccf804a0541dbe",
      "3925f6fdc3e542bab4907c4547fe8109",
      "1bb45213b0f64227a3b451223adac34e",
      "8ae0d40505f7463ea974d4bf2ce70880",
      "856c2d9e86d049f3970ea5de5b62f597",
      "63e29b94ebec4db6aa5bffcdd36c89ca",
      "d2ed4b97fb4f409ca6317343d634ab89",
      "986a186c20fa4038bdf491ab6cf2d0f3",
      "518acc7044b14bc9a0352752580a864e",
      "63834d59e15947b9b98f7a53ce023875",
      "e4f3d997997a4f2fbe4aa86d7fa92a68",
      "ab50c442341140c69d4ab4e037a35fe9",
      "b2eb228c4f3d40829adc8af023104159",
      "1568548407884619974148cfb820ea0f",
      "2c1d01470f0b47f8941c090c75be72a3",
      "9fade07f8e3f45758d47c11b8737c02f",
      "8f1c76f990df4da481f67c2143608397",
      "7d81c895c82c4392937ffb379489a42e",
      "6fdc2244d981405d9cbb6119671188a9",
      "2bd8aa5ca86848c1ac6bc74fdc9030cc",
      "824870c476194a718932f137dfc7c570",
      "d68fd7677fe149ddaa12c390fe6d6664",
      "c3f26fd81fff468580ffce15e0b83a3c",
      "e18d8170f9144a42a3e9cc906fc8c580",
      "d7eabb07cc274dc2a87e1e41ffe698ca",
      "2a80e078e4aa4fe09df83c8c008c5e1f",
      "fa08ebb568db4c3dbb7bdb5fb0d59600",
      "707d5c631b234f01a7f07589f5335c2c",
      "236c5c120f6d4283985b5b3656f0cf29",
      "7eb70d247f7f441a9469ba045008e3a5",
      "e1bccee04d6f4d65a705c627d6e31bf7",
      "9582d944bde44949b3e312c48b355790"
     ]
    },
    "id": "GtUv1GusoOMA",
    "outputId": "e3c9bd7b-ed7c-4038-911d-f091761f59ba"
   },
   "execution_count": 6,
   "outputs": [
    {
     "output_type": "stream",
     "name": "stderr",
     "text": [
      "/usr/local/lib/python3.11/dist-packages/huggingface_hub/utils/_auth.py:94: UserWarning: \n",
      "The secret `HF_TOKEN` does not exist in your Colab secrets.\n",
      "To authenticate with the Hugging Face Hub, create a token in your settings tab (https://huggingface.co/settings/tokens), set it as secret in your Google Colab and restart your session.\n",
      "You will be able to reuse this secret in all of your notebooks.\n",
      "Please note that authentication is recommended but still optional to access public models or datasets.\n",
      "  warnings.warn(\n"
     ]
    },
    {
     "output_type": "display_data",
     "data": {
      "text/plain": [
       "tokenizer_config.json: 0.00B [00:00, ?B/s]"
      ],
      "application/vnd.jupyter.widget-view+json": {
       "version_major": 2,
       "version_minor": 0,
       "model_id": "8606e25884dc46bc987d9d1c7995596c"
      }
     },
     "metadata": {}
    },
    {
     "output_type": "display_data",
     "data": {
      "text/plain": [
       "vocab.txt: 0.00B [00:00, ?B/s]"
      ],
      "application/vnd.jupyter.widget-view+json": {
       "version_major": 2,
       "version_minor": 0,
       "model_id": "072853a3ea5348fe98aeaf2612be924f"
      }
     },
     "metadata": {}
    },
    {
     "output_type": "display_data",
     "data": {
      "text/plain": [
       "tokenizer.json: 0.00B [00:00, ?B/s]"
      ],
      "application/vnd.jupyter.widget-view+json": {
       "version_major": 2,
       "version_minor": 0,
       "model_id": "ed88448dc84747f09f8dc20b287020bb"
      }
     },
     "metadata": {}
    },
    {
     "output_type": "display_data",
     "data": {
      "text/plain": [
       "special_tokens_map.json:   0%|          | 0.00/125 [00:00<?, ?B/s]"
      ],
      "application/vnd.jupyter.widget-view+json": {
       "version_major": 2,
       "version_minor": 0,
       "model_id": "e8548d692de649bb849b0337e26b95df"
      }
     },
     "metadata": {}
    },
    {
     "output_type": "display_data",
     "data": {
      "text/plain": [
       "config.json: 0.00B [00:00, ?B/s]"
      ],
      "application/vnd.jupyter.widget-view+json": {
       "version_major": 2,
       "version_minor": 0,
       "model_id": "e4f3d997997a4f2fbe4aa86d7fa92a68"
      }
     },
     "metadata": {}
    },
    {
     "output_type": "display_data",
     "data": {
      "text/plain": [
       "model.safetensors:   0%|          | 0.00/436M [00:00<?, ?B/s]"
      ],
      "application/vnd.jupyter.widget-view+json": {
       "version_major": 2,
       "version_minor": 0,
       "model_id": "d68fd7677fe149ddaa12c390fe6d6664"
      }
     },
     "metadata": {}
    },
    {
     "output_type": "stream",
     "name": "stderr",
     "text": [
      "Device set to use cpu\n"
     ]
    }
   ]
  },
  {
   "cell_type": "markdown",
   "source": [
    "# \ud83e\udde0 Detecci\u00f3n de negaci\u00f3n e incertidumbre en las historias cl\u00ednicas\n",
    "\n",
    "Se aplica el modelo de negaci\u00f3n e incertidumbre a cada l\u00ednea del texto cl\u00ednico. Para cada frase, se extraen los tokens etiquetados por el modelo (`contexto`) y se almacenan junto con el texto original en la lista `resultados_negacion`. Esta estructura permitir\u00e1 analizar qu\u00e9 partes del texto est\u00e1n marcadas como negadas, inciertas o fuera de inter\u00e9s.\n"
   ],
   "metadata": {
    "id": "Xh_jGz_TMbjV"
   }
  },
  {
   "cell_type": "code",
   "source": [
    "resultados_negacion = []\n",
    "\n",
    "for linea in historias:\n",
    "    entidades_contexto = pipeline_neg(linea)\n",
    "    resultados_negacion.append({\n",
    "        \"linea\": linea,\n",
    "        \"contexto\": entidades_contexto\n",
    "    })"
   ],
   "metadata": {
    "id": "1mRMTPS5opeq"
   },
   "execution_count": 7,
   "outputs": []
  },
  {
   "cell_type": "markdown",
   "source": [
    "# \ud83d\udd0d Inspecci\u00f3n inicial de etiquetas generadas por el modelo de negaci\u00f3n\n",
    "\n",
    "Se imprimen los resultados de la detecci\u00f3n de negaci\u00f3n e incertidumbre para cada l\u00ednea procesada, mostrando cada token con su respectiva etiqueta (`entity_group`). Al revisar la salida, se identific\u00f3 que las etiquetas generadas por el modelo no estaban mapeadas a nombres legibles (por ejemplo, `LABEL_0`, `LABEL_1`, etc.), lo que evidenci\u00f3 la necesidad de realizar un an\u00e1lisis manual para interpretar y asignar un significado cl\u00ednico a cada etiqueta.\n"
   ],
   "metadata": {
    "id": "MqqMZDs9M7ma"
   }
  },
  {
   "cell_type": "code",
   "source": [
    "for r in resultados_negacion[:10]:\n",
    "    print(f\"\\nTexto: {r['linea']}\")\n",
    "    for ent in r['contexto']:\n",
    "        print(f\"  \u2192 {ent['word']} ({ent['entity_group']})\")\n"
   ],
   "metadata": {
    "colab": {
     "base_uri": "https://localhost:8080/"
    },
    "id": "joCjqr0VoqcJ",
    "outputId": "763b0bbb-298b-429c-e226-aa2f3aaadfd6"
   },
   "execution_count": 8,
   "outputs": [
    {
     "output_type": "stream",
     "name": "stdout",
     "text": [
      "\n",
      "Texto: PRIMERA CONSULTA DE ONCOLOG\u00cdA M\u00c9DICA.\n",
      "  \u2192 primera consulta de oncologia medica. (LABEL_8)\n",
      "\n",
      "Texto: Antecedentes Personales:- Alergia a Fluconazol.\n",
      "  \u2192 antecedentes personales : - alergia a fluconazol. (LABEL_8)\n",
      "\n",
      "Texto: - No HTA.\n",
      "  \u2192 - (LABEL_8)\n",
      "  \u2192 no (LABEL_0)\n",
      "  \u2192 h (LABEL_1)\n",
      "  \u2192 ##ta (LABEL_5)\n",
      "  \u2192 . (LABEL_8)\n",
      "\n",
      "Texto: No DM.\n",
      "  \u2192 no (LABEL_0)\n",
      "  \u2192 dm (LABEL_1)\n",
      "  \u2192 . (LABEL_8)\n",
      "\n",
      "Texto: No DL.\n",
      "  \u2192 no (LABEL_0)\n",
      "  \u2192 dl (LABEL_1)\n",
      "  \u2192 . (LABEL_8)\n",
      "\n",
      "Texto: - Niega habitos toxicos.- Candidiasis recurrentes- Iqx: ninguna.\n",
      "  \u2192 - (LABEL_8)\n",
      "  \u2192 ni (LABEL_0)\n",
      "  \u2192 ##ega habit (LABEL_1)\n",
      "  \u2192 ##os toxicos (LABEL_5)\n",
      "  \u2192 . - candidiasis recurrentes - iqx : (LABEL_8)\n",
      "  \u2192 ning (LABEL_0)\n",
      "  \u2192 ##una (LABEL_1)\n",
      "  \u2192 . (LABEL_8)\n",
      "\n",
      "Texto: MEDICACI\u00d3N- No medicaci\u00f3n habitual.\n",
      "  \u2192 medicacion - (LABEL_8)\n",
      "  \u2192 no (LABEL_0)\n",
      "  \u2192 med (LABEL_1)\n",
      "  \u2192 ##icacion habitual (LABEL_5)\n",
      "  \u2192 . (LABEL_8)\n",
      "\n",
      "Texto: Muje de 59 a\u00f1os remitida desde oncolog\u00eda con Adenocarcinoma ductal infiltrante de mama izquierda, moderadamente diferenciado de 2 cm, intervenido mediante mastectom\u00eda radical izquierda el 20/06/1991.\n",
      "  \u2192 muje de 59 anos remitida desde oncologia con adenocarcinoma ductal infiltrante de mama izquierda, moderadamente diferenciado de 2 cm, intervenido mediante mastectomia radical izquierda el 20 / 06 / 1991. (LABEL_8)\n",
      "\n",
      "Texto: -Carcinoma lobulillar in situ residual de 2 cm en mama dcha, intervenida el 16/04/2003 mediante mastectom\u00eda radical derecha.\n",
      "  \u2192 - carcinoma lobulillar in situ residual de 2 cm en mama dcha, intervenida el 16 / 04 / 2003 mediante mastectomia radical derecha. (LABEL_8)\n",
      "\n",
      "Texto: Recidiva pulmonar y pleural confirmada con AP en el 2012.\n",
      "  \u2192 recidiva pulmonar y pleural confirmada con ap en el 2012. (LABEL_8)\n"
     ]
    }
   ]
  },
  {
   "cell_type": "markdown",
   "source": [
    "# \ud83e\uddea An\u00e1lisis exploratorio de etiquetas para interpretaci\u00f3n manual\n",
    "\n",
    "Se agrupan frases completas por cada etiqueta generada por el modelo de negaci\u00f3n (`LABEL_0`, `LABEL_1`, etc.), con el fin de facilitar su interpretaci\u00f3n sem\u00e1ntica. Para cada etiqueta, se recolectan y muestran al menos **dos frases de ejemplo** que contengan tokens clasificados con dicha etiqueta. Esto permite revisar en contexto c\u00f3mo se utilizan las etiquetas y realizar un mapeo manual que as\n"
   ],
   "metadata": {
    "id": "sdY1hwh1OKQy"
   }
  },
  {
   "cell_type": "code",
   "source": [
    "from collections import defaultdict\n",
    "\n",
    "# Almacenar frases con sus tokens y etiquetas por tipo de etiqueta\n",
    "frases_por_etiqueta = defaultdict(list)\n",
    "\n",
    "# Recorremos los resultados procesados por el modelo\n",
    "for resultado in resultados_negacion:\n",
    "    texto = resultado[\"linea\"]\n",
    "    tokens = resultado[\"contexto\"]\n",
    "\n",
    "    # Obtener etiquetas presentes en esta l\u00ednea\n",
    "    etiquetas_en_linea = set()\n",
    "    for token in tokens:\n",
    "        etiqueta = token.get(\"entity_group\") or token.get(\"entity\") or \"UNKNOWN\"\n",
    "        if etiqueta.startswith(\"LABEL_\"):\n",
    "            etiquetas_en_linea.add(etiqueta)\n",
    "\n",
    "    # A\u00f1adir esta l\u00ednea a cada etiqueta que est\u00e9 presente\n",
    "    for etiqueta in etiquetas_en_linea:\n",
    "        if len(frases_por_etiqueta[etiqueta]) < 5:  # Puedes ajustar este n\u00famero\n",
    "            frases_por_etiqueta[etiqueta].append({\n",
    "                \"texto\": texto,\n",
    "                \"tokens\": [\n",
    "                    {\n",
    "                        \"word\": t[\"word\"],\n",
    "                        \"etiqueta\": t.get(\"entity_group\") or t.get(\"entity\") or \"UNKNOWN\"\n",
    "                    }\n",
    "                    for t in tokens\n",
    "                ]\n",
    "            })\n",
    "\n",
    "# Mostrar al menos 2 frases por etiqueta\n",
    "for etiqueta, frases in frases_por_etiqueta.items():\n",
    "    print(f\"\\n\ud83d\udfe9 {etiqueta} \u2014 {len(frases)} frases\")\n",
    "    for i, ejemplo in enumerate(frases[:2], 1):\n",
    "        print(f\"\\n\ud83d\udccc Ejemplo {i}:\")\n",
    "        print(f\"Texto: {ejemplo['texto']}\")\n",
    "        print(\"Etiquetas:\")\n",
    "        for token in ejemplo[\"tokens\"]:\n",
    "            print(f\"  {token['word']:20} \u2192 {token['etiqueta']}\")\n",
    "\n"
   ],
   "metadata": {
    "colab": {
     "base_uri": "https://localhost:8080/"
    },
    "id": "QtjlcUy5rwpl",
    "outputId": "143fdd62-088b-4865-86b6-4aee4cd441fc"
   },
   "execution_count": 10,
   "outputs": [
    {
     "output_type": "stream",
     "name": "stdout",
     "text": [
      "\n",
      "\ud83d\udfe9 LABEL_8 \u2014 5 frases\n",
      "\n",
      "\ud83d\udccc Ejemplo 1:\n",
      "Texto: PRIMERA CONSULTA DE ONCOLOG\u00cdA M\u00c9DICA.\n",
      "Etiquetas:\n",
      "  primera consulta de oncologia medica. \u2192 LABEL_8\n",
      "\n",
      "\ud83d\udccc Ejemplo 2:\n",
      "Texto: Antecedentes Personales:- Alergia a Fluconazol.\n",
      "Etiquetas:\n",
      "  antecedentes personales : - alergia a fluconazol. \u2192 LABEL_8\n",
      "\n",
      "\ud83d\udfe9 LABEL_1 \u2014 5 frases\n",
      "\n",
      "\ud83d\udccc Ejemplo 1:\n",
      "Texto: - No HTA.\n",
      "Etiquetas:\n",
      "  -                    \u2192 LABEL_8\n",
      "  no                   \u2192 LABEL_0\n",
      "  h                    \u2192 LABEL_1\n",
      "  ##ta                 \u2192 LABEL_5\n",
      "  .                    \u2192 LABEL_8\n",
      "\n",
      "\ud83d\udccc Ejemplo 2:\n",
      "Texto: No DM.\n",
      "Etiquetas:\n",
      "  no                   \u2192 LABEL_0\n",
      "  dm                   \u2192 LABEL_1\n",
      "  .                    \u2192 LABEL_8\n",
      "\n",
      "\ud83d\udfe9 LABEL_0 \u2014 5 frases\n",
      "\n",
      "\ud83d\udccc Ejemplo 1:\n",
      "Texto: - No HTA.\n",
      "Etiquetas:\n",
      "  -                    \u2192 LABEL_8\n",
      "  no                   \u2192 LABEL_0\n",
      "  h                    \u2192 LABEL_1\n",
      "  ##ta                 \u2192 LABEL_5\n",
      "  .                    \u2192 LABEL_8\n",
      "\n",
      "\ud83d\udccc Ejemplo 2:\n",
      "Texto: No DM.\n",
      "Etiquetas:\n",
      "  no                   \u2192 LABEL_0\n",
      "  dm                   \u2192 LABEL_1\n",
      "  .                    \u2192 LABEL_8\n",
      "\n",
      "\ud83d\udfe9 LABEL_5 \u2014 5 frases\n",
      "\n",
      "\ud83d\udccc Ejemplo 1:\n",
      "Texto: - No HTA.\n",
      "Etiquetas:\n",
      "  -                    \u2192 LABEL_8\n",
      "  no                   \u2192 LABEL_0\n",
      "  h                    \u2192 LABEL_1\n",
      "  ##ta                 \u2192 LABEL_5\n",
      "  .                    \u2192 LABEL_8\n",
      "\n",
      "\ud83d\udccc Ejemplo 2:\n",
      "Texto: - Niega habitos toxicos.- Candidiasis recurrentes- Iqx: ninguna.\n",
      "Etiquetas:\n",
      "  -                    \u2192 LABEL_8\n",
      "  ni                   \u2192 LABEL_0\n",
      "  ##ega habit          \u2192 LABEL_1\n",
      "  ##os toxicos         \u2192 LABEL_5\n",
      "  . - candidiasis recurrentes - iqx : \u2192 LABEL_8\n",
      "  ning                 \u2192 LABEL_0\n",
      "  ##una                \u2192 LABEL_1\n",
      "  .                    \u2192 LABEL_8\n",
      "\n",
      "\ud83d\udfe9 LABEL_7 \u2014 5 frases\n",
      "\n",
      "\ud83d\udccc Ejemplo 1:\n",
      "Texto: Impresi\u00f3n Diagn\u00f3stica: Exantema de probable origen medicamentoso.\n",
      "Etiquetas:\n",
      "  impres               \u2192 LABEL_2\n",
      "  ##ion diagnostica    \u2192 LABEL_6\n",
      "  :                    \u2192 LABEL_8\n",
      "  ex                   \u2192 LABEL_3\n",
      "  ##ante               \u2192 LABEL_7\n",
      "  ##ma                 \u2192 LABEL_3\n",
      "  de probable origen medicamentoso \u2192 LABEL_7\n",
      "  .                    \u2192 LABEL_8\n",
      "\n",
      "\ud83d\udccc Ejemplo 2:\n",
      "Texto: Captaci\u00f3n focal patol\u00f3gica en hemicuerpo izquierdo de T9, coincidente con una lesi\u00f3n mal definida, levemente esclerosa, sugerente de malignidad RM cerebral:2019-12-12 Sin anomal\u00edas en uni\u00f3n craneocervical.\n",
      "Etiquetas:\n",
      "  captacion focal patologica en hemicuerpo izquierdo de t9, coincidente con una \u2192 LABEL_8\n",
      "  lesion mal definida  \u2192 LABEL_7\n",
      "  , levemente esclerosa, sugerente de malignidad rm cerebral : 2019 - 12 - 12 \u2192 LABEL_8\n",
      "  sin                  \u2192 LABEL_0\n",
      "  anoma                \u2192 LABEL_1\n",
      "  ##lias en union craneocervical \u2192 LABEL_5\n",
      "  .                    \u2192 LABEL_8\n",
      "\n",
      "\ud83d\udfe9 LABEL_3 \u2014 5 frases\n",
      "\n",
      "\ud83d\udccc Ejemplo 1:\n",
      "Texto: Impresi\u00f3n Diagn\u00f3stica: Exantema de probable origen medicamentoso.\n",
      "Etiquetas:\n",
      "  impres               \u2192 LABEL_2\n",
      "  ##ion diagnostica    \u2192 LABEL_6\n",
      "  :                    \u2192 LABEL_8\n",
      "  ex                   \u2192 LABEL_3\n",
      "  ##ante               \u2192 LABEL_7\n",
      "  ##ma                 \u2192 LABEL_3\n",
      "  de probable origen medicamentoso \u2192 LABEL_7\n",
      "  .                    \u2192 LABEL_8\n",
      "\n",
      "\ud83d\udccc Ejemplo 2:\n",
      "Texto: El compartimento supratentorial llama la atenci\u00f3n la presencia de m\u00faltiples estructuras con vac\u00edo de se\u00f1al, de distintos calibres ,que adoptan morfolog\u00eda tortuosa y serpiginosa sugestivos de MAV pial situada en sustancia blanca subcortical parietal izquierda, cuyo l\u00edmite anterosuperior de estructuras vasculares alcanza la circunvoluci\u00f3n posrol\u00e1ndica y que en profundidad se dirige al atrio del VL izquierdo con componente intraventricular.\n",
      "Etiquetas:\n",
      "  el compartimento supratentorial llama la atencion la presencia de multiples estructuras con vacio de senal, de distintos calibres, que adoptan morfologia tortuosa y serpiginosa \u2192 LABEL_8\n",
      "  sugestiv             \u2192 LABEL_2\n",
      "  ##os de              \u2192 LABEL_6\n",
      "  ma                   \u2192 LABEL_3\n",
      "  ##v pial situada en sustancia blanca subcortical parietal izquierda \u2192 LABEL_7\n",
      "  , cuyo limite anterosuperior de estructuras vasculares alcanza la circunvolucion posrolandica y que en profundidad se dirige al atrio del vl izquierdo con componente intraventricular. \u2192 LABEL_8\n",
      "\n",
      "\ud83d\udfe9 LABEL_2 \u2014 5 frases\n",
      "\n",
      "\ud83d\udccc Ejemplo 1:\n",
      "Texto: Impresi\u00f3n Diagn\u00f3stica: Exantema de probable origen medicamentoso.\n",
      "Etiquetas:\n",
      "  impres               \u2192 LABEL_2\n",
      "  ##ion diagnostica    \u2192 LABEL_6\n",
      "  :                    \u2192 LABEL_8\n",
      "  ex                   \u2192 LABEL_3\n",
      "  ##ante               \u2192 LABEL_7\n",
      "  ##ma                 \u2192 LABEL_3\n",
      "  de probable origen medicamentoso \u2192 LABEL_7\n",
      "  .                    \u2192 LABEL_8\n",
      "\n",
      "\ud83d\udccc Ejemplo 2:\n",
      "Texto: El compartimento supratentorial llama la atenci\u00f3n la presencia de m\u00faltiples estructuras con vac\u00edo de se\u00f1al, de distintos calibres ,que adoptan morfolog\u00eda tortuosa y serpiginosa sugestivos de MAV pial situada en sustancia blanca subcortical parietal izquierda, cuyo l\u00edmite anterosuperior de estructuras vasculares alcanza la circunvoluci\u00f3n posrol\u00e1ndica y que en profundidad se dirige al atrio del VL izquierdo con componente intraventricular.\n",
      "Etiquetas:\n",
      "  el compartimento supratentorial llama la atencion la presencia de multiples estructuras con vacio de senal, de distintos calibres, que adoptan morfologia tortuosa y serpiginosa \u2192 LABEL_8\n",
      "  sugestiv             \u2192 LABEL_2\n",
      "  ##os de              \u2192 LABEL_6\n",
      "  ma                   \u2192 LABEL_3\n",
      "  ##v pial situada en sustancia blanca subcortical parietal izquierda \u2192 LABEL_7\n",
      "  , cuyo limite anterosuperior de estructuras vasculares alcanza la circunvolucion posrolandica y que en profundidad se dirige al atrio del vl izquierdo con componente intraventricular. \u2192 LABEL_8\n",
      "\n",
      "\ud83d\udfe9 LABEL_6 \u2014 5 frases\n",
      "\n",
      "\ud83d\udccc Ejemplo 1:\n",
      "Texto: Impresi\u00f3n Diagn\u00f3stica: Exantema de probable origen medicamentoso.\n",
      "Etiquetas:\n",
      "  impres               \u2192 LABEL_2\n",
      "  ##ion diagnostica    \u2192 LABEL_6\n",
      "  :                    \u2192 LABEL_8\n",
      "  ex                   \u2192 LABEL_3\n",
      "  ##ante               \u2192 LABEL_7\n",
      "  ##ma                 \u2192 LABEL_3\n",
      "  de probable origen medicamentoso \u2192 LABEL_7\n",
      "  .                    \u2192 LABEL_8\n",
      "\n",
      "\ud83d\udccc Ejemplo 2:\n",
      "Texto: El compartimento supratentorial llama la atenci\u00f3n la presencia de m\u00faltiples estructuras con vac\u00edo de se\u00f1al, de distintos calibres ,que adoptan morfolog\u00eda tortuosa y serpiginosa sugestivos de MAV pial situada en sustancia blanca subcortical parietal izquierda, cuyo l\u00edmite anterosuperior de estructuras vasculares alcanza la circunvoluci\u00f3n posrol\u00e1ndica y que en profundidad se dirige al atrio del VL izquierdo con componente intraventricular.\n",
      "Etiquetas:\n",
      "  el compartimento supratentorial llama la atencion la presencia de multiples estructuras con vacio de senal, de distintos calibres, que adoptan morfologia tortuosa y serpiginosa \u2192 LABEL_8\n",
      "  sugestiv             \u2192 LABEL_2\n",
      "  ##os de              \u2192 LABEL_6\n",
      "  ma                   \u2192 LABEL_3\n",
      "  ##v pial situada en sustancia blanca subcortical parietal izquierda \u2192 LABEL_7\n",
      "  , cuyo limite anterosuperior de estructuras vasculares alcanza la circunvolucion posrolandica y que en profundidad se dirige al atrio del vl izquierdo con componente intraventricular. \u2192 LABEL_8\n",
      "\n",
      "\ud83d\udfe9 LABEL_4 \u2014 5 frases\n",
      "\n",
      "\ud83d\udccc Ejemplo 1:\n",
      "Texto: Ausencia de met\u00e1stasis en 15 ganglios aislados en pieza de linfadenectom\u00eda (B13-20161).\n",
      "Etiquetas:\n",
      "  ausencia             \u2192 LABEL_0\n",
      "  de                   \u2192 LABEL_4\n",
      "  meta                 \u2192 LABEL_1\n",
      "  ##stasis en 15 ganglios aislados en pieza de linfadenectomia \u2192 LABEL_5\n",
      "  ( b1                 \u2192 LABEL_8\n",
      "  ##3                  \u2192 LABEL_5\n",
      "  - 20161 ).           \u2192 LABEL_8\n",
      "\n",
      "\ud83d\udccc Ejemplo 2:\n",
      "Texto: Tras valoraci\u00f3n del caso por cardiolog\u00eda y la imposibilidad de realizar pericardiocentesis por parte de ellos aconsejan ingreso a oncolog\u00eda m\u00e9dica con seguimiento estrecho por su parte.\n",
      "Etiquetas:\n",
      "  tras valoracion del caso por cardiologia y la \u2192 LABEL_8\n",
      "  imposibil            \u2192 LABEL_0\n",
      "  ##idad de            \u2192 LABEL_4\n",
      "  realiza              \u2192 LABEL_1\n",
      "  ##r pericardiocentesis \u2192 LABEL_5\n",
      "  por parte de ellos aconsejan ingreso a oncologia medica con seguimiento estrecho por su parte. \u2192 LABEL_8\n"
     ]
    }
   ]
  },
  {
   "cell_type": "markdown",
   "source": [
    "## Mapeo final de etiquetas del modelo de negaci\u00f3n e incertidumbre\n",
    "\n",
    "El an\u00e1lisis de las salidas del modelo revela que la codificaci\u00f3n sigue un esquema BIO extendido para marcar entidades **negadas** e **inciertas**, incluyendo tambi\u00e9n los *cues* (palabras disparadoras) y los *links* gramaticales que conectan negaciones con entidades.\n",
    "\n",
    "### Mapeo propuesto\n",
    "\n",
    "| Etiqueta   | Nombre corto sugerido | Significado (es \u2192 en)                                               | Ejemplos clave                                       |\n",
    "|------------|------------------------|----------------------------------------------------------------------|------------------------------------------------------|\n",
    "| **LABEL_0** | `CUE_NEG`              | Palabra o locuci\u00f3n que expresa **negaci\u00f3n**                         | no, ni, sin, ausencia, imposibil, niega              |\n",
    "| **LABEL_1** | `B-NEG_ENT`            | **Begin** \u2013 primer token de la entidad **negada**                   | h (HTA), dm, anoma (anomal\u00edas), meta (met\u00e1stasis), realiza |\n",
    "| **LABEL_5** | `I-NEG_ENT`            | **Inside** \u2013 tokens subsiguientes de la entidad **negada**          | ##ta (HTA), ##os t\u00f3xicos, ##lias\u2026, ##stasis\u2026, ##r pericardiocentesis |\n",
    "| **LABEL_4** | `LINK_NEG`             | Token puente que **vincula la negaci\u00f3n con la entidad**             | de, ##idad de                                        |\n",
    "| **LABEL_2** | `B-UNC_CUE`            | **Begin** \u2013 palabra que inicia una expresi\u00f3n de **incertidumbre**   | impres-, sugestiv-, probable                         |\n",
    "| **LABEL_6** | `I-UNC_CUE`            | **Inside** \u2013 continuaci\u00f3n de un disparador de incertidumbre         | ##ion diagn\u00f3stica, ##os de                          |\n",
    "| **LABEL_3** | `B-UNC_ENT`            | **Begin** \u2013 primer token de una entidad **incierta**                | ex- (exantema), ma (MAV), lesi (lesi\u00f3n)              |\n",
    "| **LABEL_7** | `I-UNC_ENT`            | **Inside** \u2013 continuaci\u00f3n de la entidad **incierta**                | ##ante, ##ma, de probable origen medicamentoso, lesi\u00f3n mal definida |\n",
    "| **LABEL_8** | `O`                    | **Outside** \u2013 token fuera de entidad o expresi\u00f3n relevante          | signos de puntuaci\u00f3n, encabezados, conectores, texto neutro |\n",
    "\n",
    "---\n"
   ],
   "metadata": {
    "id": "O61bpM9TF-e6"
   }
  },
  {
   "cell_type": "code",
   "source": [
    "label2nombre = {\n",
    "    \"LABEL_0\": \"CUE_NEG\",              # Palabra que expresa negaci\u00f3n\n",
    "    \"LABEL_1\": \"B-NEG_ENT\",            # Inicio de la entidad negada\n",
    "    \"LABEL_2\": \"B-UNC_CUE\",            # Inicio de cue de incertidumbre\n",
    "    \"LABEL_3\": \"B-UNC_ENT\",            # Inicio de entidad incierta\n",
    "    \"LABEL_4\": \"LINK_NEG\",             # V\u00ednculo gramatical entre negaci\u00f3n y entidad\n",
    "    \"LABEL_5\": \"I-NEG_ENT\",            # Continuaci\u00f3n de la entidad negada\n",
    "    \"LABEL_6\": \"I-UNC_CUE\",            # Continuaci\u00f3n del cue de incertidumbre\n",
    "    \"LABEL_7\": \"I-UNC_ENT\",            # Continuaci\u00f3n de la entidad incierta\n",
    "    \"LABEL_8\": \"O\"                     # Fuera de inter\u00e9s (Outside)\n",
    "}\n"
   ],
   "metadata": {
    "id": "6lkEwUCEF_gu"
   },
   "execution_count": 11,
   "outputs": []
  },
  {
   "cell_type": "code",
   "source": [
    "from transformers import pipeline, AutoTokenizer, AutoModelForTokenClassification\n",
    "\n",
    "# Cargar modelo\n",
    "modelo_neg = \"JuanSolarte99/bert-base-uncased-finetuned-ner-negation_detection_NUBES\"\n",
    "tokenizer = AutoTokenizer.from_pretrained(modelo_neg)\n",
    "model = AutoModelForTokenClassification.from_pretrained(modelo_neg)\n",
    "\n",
    "pipeline_neg = pipeline(\"ner\", model=model, tokenizer=tokenizer, aggregation_strategy=\"simple\")\n"
   ],
   "metadata": {
    "colab": {
     "base_uri": "https://localhost:8080/"
    },
    "id": "rVouGdFXIHl6",
    "outputId": "fd720522-c963-4efc-b420-9844250965b7"
   },
   "execution_count": 12,
   "outputs": [
    {
     "output_type": "stream",
     "name": "stderr",
     "text": [
      "Device set to use cpu\n"
     ]
    }
   ]
  },
  {
   "cell_type": "markdown",
   "source": [
    "# \u2705 Asignaci\u00f3n de etiquetas legibles a los tokens del modelo\n",
    "\n",
    "En este paso, se procesan nuevamente las historias cl\u00ednicas con el modelo de detecci\u00f3n de negaci\u00f3n e incertidumbre, pero ahora se utiliza un diccionario `label2nombre` que contiene el mapeo manual previamente definido. Este diccionario traduce cada etiqueta cruda (`LABEL_0`, `LABEL_1`, etc.) a una etiqueta legible y cl\u00ednicamente interpretada (como `CUE_NEG`, `B-NEG_ENT`, etc.). El resultado es una lista estructurada (`historias_procesadas`) que contiene, para cada l\u00ednea, los tokens con su etiqueta original y su versi\u00f3n interpretada. A partir de aqu\u00ed, el an\u00e1lisis puede centrarse en el significado sem\u00e1ntico real de cada entidad reconocida.\n"
   ],
   "metadata": {
    "id": "rqR4jqQJQP3M"
   }
  },
  {
   "cell_type": "code",
   "source": [
    "historias_procesadas = []\n",
    "\n",
    "for linea in historias:\n",
    "    entidades = pipeline_neg(linea)\n",
    "    entidades_legibles = []\n",
    "\n",
    "    for e in entidades:\n",
    "        etiqueta_cruda = e.get(\"entity_group\") or e.get(\"entity\")\n",
    "        nombre_etiqueta = label2nombre.get(etiqueta_cruda, \"Etiqueta desconocida\")\n",
    "\n",
    "        entidades_legibles.append({\n",
    "            \"texto\": e[\"word\"],\n",
    "            \"etiqueta_modelo\": etiqueta_cruda,\n",
    "            \"etiqueta_legible\": nombre_etiqueta\n",
    "        })\n",
    "\n",
    "    historias_procesadas.append({\n",
    "        \"texto\": linea,\n",
    "        \"entidades\": entidades_legibles\n",
    "    })\n"
   ],
   "metadata": {
    "id": "dR_lElyxILeo"
   },
   "execution_count": 13,
   "outputs": []
  },
  {
   "cell_type": "code",
   "source": [
    "for resultado in historias_procesadas[:10]:\n",
    "    print(f\"\\n\ud83d\udcdd Texto: {resultado['texto']}\")\n",
    "    for ent in resultado[\"entidades\"]:\n",
    "        print(f\" \u2192 {ent['texto']} \u2192 {ent['etiqueta_legible']} ({ent['etiqueta_modelo']})\")\n"
   ],
   "metadata": {
    "colab": {
     "base_uri": "https://localhost:8080/"
    },
    "id": "2QS9yFKBINi0",
    "outputId": "e86d8012-360d-4261-987d-9bb5f8044292"
   },
   "execution_count": 14,
   "outputs": [
    {
     "output_type": "stream",
     "name": "stdout",
     "text": [
      "\n",
      "\ud83d\udcdd Texto: PRIMERA CONSULTA DE ONCOLOG\u00cdA M\u00c9DICA.\n",
      " \u2192 primera consulta de oncologia medica. \u2192 O (LABEL_8)\n",
      "\n",
      "\ud83d\udcdd Texto: Antecedentes Personales:- Alergia a Fluconazol.\n",
      " \u2192 antecedentes personales : - alergia a fluconazol. \u2192 O (LABEL_8)\n",
      "\n",
      "\ud83d\udcdd Texto: - No HTA.\n",
      " \u2192 - \u2192 O (LABEL_8)\n",
      " \u2192 no \u2192 CUE_NEG (LABEL_0)\n",
      " \u2192 h \u2192 B-NEG_ENT (LABEL_1)\n",
      " \u2192 ##ta \u2192 I-NEG_ENT (LABEL_5)\n",
      " \u2192 . \u2192 O (LABEL_8)\n",
      "\n",
      "\ud83d\udcdd Texto: No DM.\n",
      " \u2192 no \u2192 CUE_NEG (LABEL_0)\n",
      " \u2192 dm \u2192 B-NEG_ENT (LABEL_1)\n",
      " \u2192 . \u2192 O (LABEL_8)\n",
      "\n",
      "\ud83d\udcdd Texto: No DL.\n",
      " \u2192 no \u2192 CUE_NEG (LABEL_0)\n",
      " \u2192 dl \u2192 B-NEG_ENT (LABEL_1)\n",
      " \u2192 . \u2192 O (LABEL_8)\n",
      "\n",
      "\ud83d\udcdd Texto: - Niega habitos toxicos.- Candidiasis recurrentes- Iqx: ninguna.\n",
      " \u2192 - \u2192 O (LABEL_8)\n",
      " \u2192 ni \u2192 CUE_NEG (LABEL_0)\n",
      " \u2192 ##ega habit \u2192 B-NEG_ENT (LABEL_1)\n",
      " \u2192 ##os toxicos \u2192 I-NEG_ENT (LABEL_5)\n",
      " \u2192 . - candidiasis recurrentes - iqx : \u2192 O (LABEL_8)\n",
      " \u2192 ning \u2192 CUE_NEG (LABEL_0)\n",
      " \u2192 ##una \u2192 B-NEG_ENT (LABEL_1)\n",
      " \u2192 . \u2192 O (LABEL_8)\n",
      "\n",
      "\ud83d\udcdd Texto: MEDICACI\u00d3N- No medicaci\u00f3n habitual.\n",
      " \u2192 medicacion - \u2192 O (LABEL_8)\n",
      " \u2192 no \u2192 CUE_NEG (LABEL_0)\n",
      " \u2192 med \u2192 B-NEG_ENT (LABEL_1)\n",
      " \u2192 ##icacion habitual \u2192 I-NEG_ENT (LABEL_5)\n",
      " \u2192 . \u2192 O (LABEL_8)\n",
      "\n",
      "\ud83d\udcdd Texto: Muje de 59 a\u00f1os remitida desde oncolog\u00eda con Adenocarcinoma ductal infiltrante de mama izquierda, moderadamente diferenciado de 2 cm, intervenido mediante mastectom\u00eda radical izquierda el 20/06/1991.\n",
      " \u2192 muje de 59 anos remitida desde oncologia con adenocarcinoma ductal infiltrante de mama izquierda, moderadamente diferenciado de 2 cm, intervenido mediante mastectomia radical izquierda el 20 / 06 / 1991. \u2192 O (LABEL_8)\n",
      "\n",
      "\ud83d\udcdd Texto: -Carcinoma lobulillar in situ residual de 2 cm en mama dcha, intervenida el 16/04/2003 mediante mastectom\u00eda radical derecha.\n",
      " \u2192 - carcinoma lobulillar in situ residual de 2 cm en mama dcha, intervenida el 16 / 04 / 2003 mediante mastectomia radical derecha. \u2192 O (LABEL_8)\n",
      "\n",
      "\ud83d\udcdd Texto: Recidiva pulmonar y pleural confirmada con AP en el 2012.\n",
      " \u2192 recidiva pulmonar y pleural confirmada con ap en el 2012. \u2192 O (LABEL_8)\n"
     ]
    }
   ]
  }
 ]
}
